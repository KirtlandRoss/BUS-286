{
 "cells": [
  {
   "cell_type": "code",
   "execution_count": 88,
   "id": "cc143c76",
   "metadata": {},
   "outputs": [],
   "source": [
    "import pandas as pd\n",
    "from scipy.stats import linregress\n",
    "import seaborn as sns\n",
    "import matplotlib.pyplot as plt\n",
    "\n",
    "df = pd.read_csv('activity7.csv').set_index('Country')"
   ]
  },
  {
   "cell_type": "markdown",
   "id": "99ee3453",
   "metadata": {},
   "source": [
    "***1. Use Excel to find the summation of x, y, xy,  $x^{2}$, and $y^{2}$.***"
   ]
  },
  {
   "cell_type": "code",
   "execution_count": 89,
   "id": "75e3ae48",
   "metadata": {},
   "outputs": [
    {
     "name": "stdout",
     "output_type": "stream",
     "text": [
      "Sum of x: 466\n",
      "Sum of y: 1788\n",
      "Sum of xy: 34382\n",
      "Sum of x^2: 9736\n",
      "Sum of y^2: 133512\n"
     ]
    }
   ],
   "source": [
    "sumX= df['Birth Rate'].sum()\n",
    "sumY = df['Life Expectancy'].sum()\n",
    "print(\"Sum of x: \" + str(sumX) + '\\nSum of y: '+ str(sumY))\n",
    "sumXY = 0\n",
    "sumX2 = 0\n",
    "sumY2 = 0\n",
    "for _,row in df.iterrows():\n",
    "    sumXY += row.iloc[0]*row.iloc[1]\n",
    "    sumX2 += row.iloc[0] ** 2\n",
    "    sumY2 += row.iloc[1] ** 2\n",
    "\n",
    "print(\"Sum of xy: \"+str(sumXY) + \"\\nSum of x^2: \" + str(sumX2) + \"\\nSum of y^2: \"+str(sumY2))\n"
   ]
  },
  {
   "cell_type": "markdown",
   "id": "f933a988",
   "metadata": {},
   "source": [
    "***2. Use Excel to find the covariance $S_{xy}$ .***\n"
   ]
  },
  {
   "cell_type": "code",
   "execution_count": 90,
   "id": "7f584e47",
   "metadata": {},
   "outputs": [
    {
     "name": "stdout",
     "output_type": "stream",
     "text": [
      "-14.565217391304348\n"
     ]
    }
   ],
   "source": [
    "cov = df.cov()['Birth Rate'].iloc[1]\n",
    "print(cov)"
   ]
  },
  {
   "cell_type": "markdown",
   "id": "d9b09139",
   "metadata": {},
   "source": [
    "**Covariance of xy is -14.562**"
   ]
  },
  {
   "cell_type": "markdown",
   "id": "3e381a13",
   "metadata": {},
   "source": [
    "***3. Use Excel to calculate $S_{x}$ , $S_{y}$ , and the correlation coefficient.***"
   ]
  },
  {
   "cell_type": "code",
   "execution_count": 91,
   "id": "458c4d9d",
   "metadata": {},
   "outputs": [
    {
     "name": "stdout",
     "output_type": "stream",
     "text": [
      "x devation: 5.468619304856508\n",
      "y deviation: 3.647512553245973\n",
      "Correlation coeffecient: -0.7302011028563675\n"
     ]
    }
   ],
   "source": [
    "sx = df['Birth Rate'].std()\n",
    "sy = df['Life Expectancy'].std()\n",
    "print('x devation: '+str(sx))\n",
    "print(\"y deviation: \"+str(sy))\n",
    "corrCoef = df.corr()['Birth Rate'].iloc[1]\n",
    "print(\"Correlation coeffecient: \" + str(corrCoef))\n"
   ]
  },
  {
   "cell_type": "markdown",
   "id": "7c010b1e",
   "metadata": {},
   "source": [
    "***4. Use Excel to calculate the coefficient of determination.***"
   ]
  },
  {
   "cell_type": "code",
   "execution_count": 92,
   "id": "8f611cf0",
   "metadata": {},
   "outputs": [
    {
     "name": "stdout",
     "output_type": "stream",
     "text": [
      "Coefficient of determination: 0.5331936506126554\n"
     ]
    }
   ],
   "source": [
    "print(\"Coefficient of determination: \" + str(corrCoef**2))\n"
   ]
  },
  {
   "cell_type": "markdown",
   "id": "f574bf3e",
   "metadata": {},
   "source": [
    "***5. Use Excel to calculate $𝑏_{1}$ , 𝑥, 𝑦, and $𝑏_{0}$ .***"
   ]
  },
  {
   "cell_type": "code",
   "execution_count": 93,
   "id": "d8ccfbc1",
   "metadata": {},
   "outputs": [
    {
     "name": "stdout",
     "output_type": "stream",
     "text": [
      "slope: -0.48703658832081403 intercept: 83.9566270898958\n",
      "Model: ŷ=83.957+(-0.487)x\n"
     ]
    },
    {
     "data": {
      "image/png": "[encoded data removed]",
      "text/plain": [
       "<Figure size 640x480 with 1 Axes>"
      ]
     },
     "metadata": {},
     "output_type": "display_data"
    }
   ],
   "source": [
    "b1 = cov / sx**2\n",
    "b0 = df['Life Expectancy'].mean() - (b1*df['Birth Rate'].mean())\n",
    "print('slope: ' + str(b1) + ' intercept: ' + str(b0))\n",
    "print(f\"Model: ŷ={b0:.3f}+({b1:.3f})x\")\n",
    "\n",
    "fig, ax= plt.subplots()\n",
    "ax.set_xlabel('Birth Rate') \n",
    "ax.set_ylabel('Life Expectancy')\n",
    "ax.axline((0,b0), slope = b1)\n",
    "scatter = plt.scatter(df['Birth Rate'], df['Life Expectancy'])\n",
    "ax.set_xlim(df['Birth Rate'].min()-df['Birth Rate'].std()/2)\n",
    "plt.show()\n"
   ]
  },
  {
   "cell_type": "markdown",
   "id": "5746f1bf",
   "metadata": {},
   "source": [
    "***6. Given the scatterplot and regression equation you created in Excel and the information you have found up to\n",
    "this point, do you think there is a linear relationship between birthrate and life expectancy?***\n",
    "\n",
    "**ANSWER: Yes, it seems linear**"
   ]
  },
  {
   "cell_type": "markdown",
   "id": "239a0664",
   "metadata": {},
   "source": [
    "***7. Given the regression equation above, what is the general trend for life expectancy given a country’s birthrate? Is\n",
    "this a positive or negative association?***\n",
    "\n",
    "**ANSWER: There seems to be a negative relationship**"
   ]
  },
  {
   "cell_type": "markdown",
   "id": "2cbae7bf",
   "metadata": {},
   "source": [
    "***8. Notice that Paraguay had a birth rate of 28 per 1000 and a life expectancy of 76 years. Find Paraguay’s expected\n",
    "life expectancy and the residual. Do you think the model accurately predicted the life expectancy for Paraguay?***"
   ]
  },
  {
   "cell_type": "code",
   "execution_count": 94,
   "id": "15892ec7",
   "metadata": {},
   "outputs": [
    {
     "name": "stdout",
     "output_type": "stream",
     "text": [
      "predicted expectancy:  70.320, Life expectency standard devation: 3.647512553245973\n"
     ]
    }
   ],
   "source": [
    "predParaguay = b0 + b1*28\n",
    "print(f\"predicted expectancy: {predParaguay: .3f}, Life expectency standard devation: {df['Life Expectancy'].std()}\")"
   ]
  },
  {
   "cell_type": "markdown",
   "id": "212779a9",
   "metadata": {},
   "source": [
    "**ANSWER: The model predicts 70 years of life expentency vs. 76 measured, that is not within a standard devation of what has been measured. Not a good prediction**"
   ]
  },
  {
   "cell_type": "markdown",
   "id": "9e8f561f",
   "metadata": {},
   "source": [
    "***9. Find another country that the model poorly predicted the life expectancy of. Find the expected life expectancy\n",
    "of the country and the residual***"
   ]
  },
  {
   "cell_type": "code",
   "execution_count": 95,
   "id": "bd59144b",
   "metadata": {},
   "outputs": [
    {
     "name": "stdout",
     "output_type": "stream",
     "text": [
      "Bad predictions (outside 1 standard deviation), life expectency, and residual: \n",
      "\n",
      "Bahamas: predicted life expectency: 76.164, residual: -6.164\n",
      "Bolivia: predicted life expectency: 71.294, residual: -4.294\n",
      "Paraguay: predicted life expectency: 70.32, residual: 5.68\n"
     ]
    }
   ],
   "source": [
    "yStd = df['Life Expectancy'].std()\n",
    "print(\"Bad predictions (outside 1 standard deviation), life expectency, and residual: \\n\")\n",
    "for index,row in df.iterrows():\n",
    "    y = row.iloc[1]\n",
    "    pred = b0 + b1*row.iloc[0]\n",
    "    lowStd = y - yStd\n",
    "    highStd = y + yStd\n",
    "    if pred < lowStd or pred > highStd:\n",
    "        print(f\"{index}: predicted life expectency: {round(pred,3)}, residual: {round(y-pred,3)}\")"
   ]
  },
  {
   "cell_type": "markdown",
   "id": "a56809b4",
   "metadata": {},
   "source": [
    "***10. Notice that Nicaragua had a birth rate of 23 per 1000 and a life expectancy of 72 years (23, 72). Find Nicaragua’s\n",
    "expected life expectancy and the residual. Do you think the model accurately predicted the life expectancy for\n",
    "Nicaragua?***"
   ]
  },
  {
   "cell_type": "code",
   "execution_count": 96,
   "id": "153e287e",
   "metadata": {},
   "outputs": [
    {
     "name": "stdout",
     "output_type": "stream",
     "text": [
      "Predicted life expectency: 72.755.\n",
      "Standard devation interval from prediction: (76.4,69.1)\n"
     ]
    }
   ],
   "source": [
    "pred = pred = b0 + b1*23\n",
    "y= 72\n",
    "lowStd = pred - yStd\n",
    "highStd = pred + yStd\n",
    "print(f\"Predicted life expectency: {pred:.3f}.\\nStandard devation interval from prediction: ({round(highStd,1)},{round(lowStd,1)})\")"
   ]
  },
  {
   "cell_type": "markdown",
   "id": "d184aedb",
   "metadata": {},
   "source": [
    "**ANSWER: Yes, measured expected life expectency is within 1 standard devation of predicted.**"
   ]
  },
  {
   "cell_type": "markdown",
   "id": "710f6364",
   "metadata": {},
   "source": [
    "***11. Find another country that the model accurately predicted the life expectancy of. Find the expected life\n",
    "expectancy of the country and the residual.***"
   ]
  },
  {
   "cell_type": "code",
   "execution_count": 97,
   "id": "f48cfb89",
   "metadata": {},
   "outputs": [
    {
     "name": "stdout",
     "output_type": "stream",
     "text": [
      "Good predictions (within 1 standard devation of prediction): \n",
      "\n",
      "Argentina: predicted life expectency: 75.19, residual: 1.81\n",
      "Barbados: predicted life expectency: 77.625, residual: -3.625\n",
      "Belize: predicted life expectency: 70.807, residual: -2.807\n",
      "Canada : predicted life expectency: 79.086, residual: 1.914\n",
      "Chile: predicted life expectency: 76.651, residual: 0.349\n",
      "Colombia: predicted life expectency: 75.19, residual: -1.19\n",
      "Costa Rica: predicted life expectency: 75.677, residual: 2.323\n",
      "Dominican Republic: predicted life expectency: 73.242, residual: 0.758\n",
      "Ecuador: predicted life expectency: 73.729, residual: 1.271\n",
      "El Salvador: predicted life expectency: 71.781, residual: 0.219\n",
      "Guatemala: predicted life expectency: 70.32, residual: -0.32\n",
      "Honduras: predicted life expectency: 71.294, residual: -1.294\n",
      "Jamaica: predicted life expectency: 74.216, residual: -0.216\n",
      "Mexico: predicted life expectency: 74.216, residual: 1.784\n",
      "Nicaragua: predicted life expectency: 72.755, residual: -0.755\n",
      "Panama: predicted life expectency: 74.216, residual: 2.784\n",
      "Puerto Rico: predicted life expectency: 78.112, residual: 0.888\n",
      "United States: predicted life expectency: 77.138, residual: 0.862\n",
      "Uruguay: predicted life expectency: 77.138, residual: -1.138\n",
      "Venezuela : predicted life expectency: 73.729, residual: 0.271\n",
      "Virgin Islands: predicted life expectency: 78.112, residual: 0.888\n"
     ]
    }
   ],
   "source": [
    "print(\"Good predictions (within 1 standard devation of prediction): \\n\")\n",
    "for index,row in df.iterrows():\n",
    "    y = row.iloc[1]\n",
    "    pred = b0 + b1*row.iloc[0]\n",
    "    lowStd = y - yStd\n",
    "    highStd = y + yStd\n",
    "    if pred > lowStd and pred < highStd:\n",
    "        print(f\"{index}: predicted life expectency: {round(pred,3)}, residual: {round(y-pred,3)}\")"
   ]
  }
 ],
 "metadata": {
  "kernelspec": {
   "display_name": "base",
   "language": "python",
   "name": "python3"
  },
  "language_info": {
   "codemirror_mode": {
    "name": "ipython",
    "version": 3
   },
   "file_extension": ".py",
   "mimetype": "text/x-python",
   "name": "python",
   "nbconvert_exporter": "python",
   "pygments_lexer": "ipython3",
   "version": "3.10.12"
  }
 },
 "nbformat": 4,
 "nbformat_minor": 5
}
