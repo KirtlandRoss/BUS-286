{
 "cells": [
  {
   "cell_type": "markdown",
   "metadata": {},
   "source": [
    "You can ignore this, this is just initial setup "
   ]
  },
  {
   "cell_type": "code",
   "execution_count": 3,
   "metadata": {},
   "outputs": [],
   "source": [
    "import pandas as pd\n",
    "import seaborn as sns\n",
    "import math\n"
   ]
  },
  {
   "cell_type": "markdown",
   "metadata": {},
   "source": [
    "**Section 3.4**"
   ]
  },
  {
   "cell_type": "markdown",
   "metadata": {},
   "source": [
    "PROBLEM 17 a:"
   ]
  },
  {
   "cell_type": "markdown",
   "metadata": {},
   "source": [
    "Calculate bins using squareroot of number of rows for number of bins. "
   ]
  },
  {
   "cell_type": "code",
   "execution_count": null,
   "metadata": {},
   "outputs": [
    {
     "data": {
      "application/vnd.microsoft.datawrangler.viewer.v0+json": {
       "columns": [
        {
         "name": "index",
         "rawType": "interval[float64, right]",
         "type": "unknown"
        },
        {
         "name": "Closing Price($)",
         "rawType": "int64",
         "type": "integer"
        }
       ],
       "conversionMethod": "pd.DataFrame",
       "ref": "4569cc98-60a2-4a0e-bfee-4e70366b68b1",
       "rows": [
        [
         "(-0.001, 51.0]",
         "10"
        ],
        [
         "(51.0, 102.0]",
         "3"
        ],
        [
         "(102.0, 153.0]",
         "0"
        ],
        [
         "(153.0, 204.0]",
         "0"
        ],
        [
         "(204.0, 255.0]",
         "1"
        ]
       ],
       "shape": {
        "columns": 1,
        "rows": 5
       }
      },
      "text/html": [
       "<div>\n",
       "<style scoped>\n",
       "    .dataframe tbody tr th:only-of-type {\n",
       "        vertical-align: middle;\n",
       "    }\n",
       "\n",
       "    .dataframe tbody tr th {\n",
       "        vertical-align: top;\n",
       "    }\n",
       "\n",
       "    .dataframe thead th {\n",
       "        text-align: right;\n",
       "    }\n",
       "</style>\n",
       "<table border=\"1\" class=\"dataframe\">\n",
       "  <thead>\n",
       "    <tr style=\"text-align: right;\">\n",
       "      <th></th>\n",
       "      <th>Closing Price($)</th>\n",
       "    </tr>\n",
       "  </thead>\n",
       "  <tbody>\n",
       "    <tr>\n",
       "      <th>(-0.001, 51.0]</th>\n",
       "      <td>10</td>\n",
       "    </tr>\n",
       "    <tr>\n",
       "      <th>(51.0, 102.0]</th>\n",
       "      <td>3</td>\n",
       "    </tr>\n",
       "    <tr>\n",
       "      <th>(102.0, 153.0]</th>\n",
       "      <td>0</td>\n",
       "    </tr>\n",
       "    <tr>\n",
       "      <th>(153.0, 204.0]</th>\n",
       "      <td>0</td>\n",
       "    </tr>\n",
       "    <tr>\n",
       "      <th>(204.0, 255.0]</th>\n",
       "      <td>1</td>\n",
       "    </tr>\n",
       "  </tbody>\n",
       "</table>\n",
       "</div>"
      ],
      "text/plain": [
       "                Closing Price($)\n",
       "(-0.001, 51.0]                10\n",
       "(51.0, 102.0]                  3\n",
       "(102.0, 153.0]                 0\n",
       "(153.0, 204.0]                 0\n",
       "(204.0, 255.0]                 1"
      ]
     },
     "execution_count": 4,
     "metadata": {},
     "output_type": "execute_result"
    }
   ],
   "source": [
    "from pandas.api.types import is_numeric_dtype\n",
    "#Initialize dataframe, sort by closing price\n",
    "NasdaqDF = pd.DataFrame({\n",
    "    'Stock' : ['Citigroup (C)','Pfizer(PFE)','Herbalife(HLF)', 'JP Morgan Chase(JPM)', 'Intel(INTC)','Walmart(WMT)','Microsoft(MSFT)','PepsiCo(PEP)','General Motors(GM)','Verizon Communications(VZ)','Southwest Airlines(LUV)','Sprint Nextel(S)','Yahoo! Inc(YHOO)','International Business Machines(IBM)'],\n",
    "    'Closing Price($)' : [34.7,22.34,69.72,44.34,28.07,60.67,31.52,66.17,24.81,37.66,8.31,2.76,15.07,205.47]\n",
    "}).set_index('Stock').sort_values('Closing Price($)')\n",
    "\n",
    "def calculateBins(df = pd.DataFrame(), column = \"\"):\n",
    "    if is_numeric_dtype(df[column]):\n",
    "        #we aren't going to assume it's already sorted, sort dataframe before starting.\n",
    "        df = df.sort_values(column)\n",
    "        \n",
    "        bins = [0]\n",
    "        numOfClasses = round(math.sqrt(df.size))\n",
    "        classWidth = math.ceil((df[column].iloc[df.size-1] - df[column].iloc[0]) / numOfClasses)\n",
    "        #indexing starts at 0 so I added a 1 to make sure the number of bins remains correct while it iterates\n",
    "        for i in range(numOfClasses + 1):\n",
    "            bins.append(classWidth + bins[i])\n",
    "    return bins\n",
    "\n",
    "bins  = calculateBins(NasdaqDF, 'Closing Price($)')\n",
    "df = NasdaqDF.apply(pd.Series.value_counts, bins = bins).sort_index()\n",
    "df\n"
   ]
  },
  {
   "cell_type": "markdown",
   "metadata": {},
   "source": [
    "For this output the lower limit is an open interval so (-.001, 51.0] is actually 0 to 51 and (51, 102] approaches from the upper side but does not include 51."
   ]
  },
  {
   "cell_type": "markdown",
   "metadata": {},
   "source": [
    "PROBLEM 17 b"
   ]
  },
  {
   "cell_type": "code",
   "execution_count": 5,
   "metadata": {},
   "outputs": [
    {
     "data": {
      "text/plain": [
       "<Axes: xlabel='Closing Price($)', ylabel='Count'>"
      ]
     },
     "execution_count": 5,
     "metadata": {},
     "output_type": "execute_result"
    },
    {
     "data": {
      "image/png": "[encoded data removed]",
      "text/plain": [
       "<Figure size 640x480 with 1 Axes>"
      ]
     },
     "metadata": {},
     "output_type": "display_data"
    }
   ],
   "source": [
    "sns.histplot(NasdaqDF, x='Closing Price($)', bins= bins)"
   ]
  },
  {
   "cell_type": "markdown",
   "metadata": {},
   "source": [
    "PROBLEM 19 a: "
   ]
  },
  {
   "cell_type": "markdown",
   "metadata": {},
   "source": [
    "Initialize the dataframe, sort by calories descending:"
   ]
  },
  {
   "cell_type": "code",
   "execution_count": 6,
   "metadata": {},
   "outputs": [],
   "source": [
    "calDf = pd.DataFrame({ 'Calories' : [34,18,33,25,30,42,40,33,39,40,45,35,45,25,27,23,32,33,47,23,27,32,30,28,36]}).sort_values('Calories')"
   ]
  },
  {
   "cell_type": "markdown",
   "metadata": {},
   "source": [
    "I will reuse my frequency distribution function, spent way too long on it not to. "
   ]
  },
  {
   "cell_type": "code",
   "execution_count": 7,
   "metadata": {},
   "outputs": [
    {
     "data": {
      "application/vnd.microsoft.datawrangler.viewer.v0+json": {
       "columns": [
        {
         "name": "index",
         "rawType": "interval[float64, right]",
         "type": "unknown"
        },
        {
         "name": "Calories",
         "rawType": "int64",
         "type": "integer"
        }
       ],
       "conversionMethod": "pd.DataFrame",
       "ref": "29d7277c-e616-4738-9a3f-fb67b89091a0",
       "rows": [
        [
         "(-0.001, 6.0]",
         "0"
        ],
        [
         "(6.0, 12.0]",
         "0"
        ],
        [
         "(12.0, 18.0]",
         "1"
        ],
        [
         "(18.0, 24.0]",
         "2"
        ],
        [
         "(24.0, 30.0]",
         "7"
        ]
       ],
       "shape": {
        "columns": 1,
        "rows": 5
       }
      },
      "text/html": [
       "<div>\n",
       "<style scoped>\n",
       "    .dataframe tbody tr th:only-of-type {\n",
       "        vertical-align: middle;\n",
       "    }\n",
       "\n",
       "    .dataframe tbody tr th {\n",
       "        vertical-align: top;\n",
       "    }\n",
       "\n",
       "    .dataframe thead th {\n",
       "        text-align: right;\n",
       "    }\n",
       "</style>\n",
       "<table border=\"1\" class=\"dataframe\">\n",
       "  <thead>\n",
       "    <tr style=\"text-align: right;\">\n",
       "      <th></th>\n",
       "      <th>Calories</th>\n",
       "    </tr>\n",
       "  </thead>\n",
       "  <tbody>\n",
       "    <tr>\n",
       "      <th>(-0.001, 6.0]</th>\n",
       "      <td>0</td>\n",
       "    </tr>\n",
       "    <tr>\n",
       "      <th>(6.0, 12.0]</th>\n",
       "      <td>0</td>\n",
       "    </tr>\n",
       "    <tr>\n",
       "      <th>(12.0, 18.0]</th>\n",
       "      <td>1</td>\n",
       "    </tr>\n",
       "    <tr>\n",
       "      <th>(18.0, 24.0]</th>\n",
       "      <td>2</td>\n",
       "    </tr>\n",
       "    <tr>\n",
       "      <th>(24.0, 30.0]</th>\n",
       "      <td>7</td>\n",
       "    </tr>\n",
       "  </tbody>\n",
       "</table>\n",
       "</div>"
      ],
      "text/plain": [
       "               Calories\n",
       "(-0.001, 6.0]         0\n",
       "(6.0, 12.0]           0\n",
       "(12.0, 18.0]          1\n",
       "(18.0, 24.0]          2\n",
       "(24.0, 30.0]          7"
      ]
     },
     "execution_count": 7,
     "metadata": {},
     "output_type": "execute_result"
    }
   ],
   "source": [
    "\n",
    "bins  = calculateBins(calDf, 'Calories')\n",
    "calBins = calDf.apply(pd.Series.value_counts, bins = bins).sort_index()\n",
    "calBins.head()"
   ]
  },
  {
   "cell_type": "markdown",
   "metadata": {},
   "source": [
    "PROBLEM 19 b:"
   ]
  },
  {
   "cell_type": "markdown",
   "metadata": {},
   "source": [
    "This loops through calBins, calculates the relative frequency for each row and then creates a new dataframe name relFreqDf based off of calBins. then adds a column for the relative frequency to hold the relative frequency data."
   ]
  },
  {
   "cell_type": "code",
   "execution_count": 8,
   "metadata": {},
   "outputs": [
    {
     "data": {
      "application/vnd.microsoft.datawrangler.viewer.v0+json": {
       "columns": [
        {
         "name": "index",
         "rawType": "interval[float64, right]",
         "type": "unknown"
        },
        {
         "name": "Calories",
         "rawType": "int64",
         "type": "integer"
        },
        {
         "name": "Relative Frequency",
         "rawType": "float64",
         "type": "float"
        }
       ],
       "conversionMethod": "pd.DataFrame",
       "ref": "9b52c1f9-46b4-431b-ae7d-726f0fdf7543",
       "rows": [
        [
         "(-0.001, 6.0]",
         "0",
         "0.0"
        ],
        [
         "(6.0, 12.0]",
         "0",
         "0.0"
        ],
        [
         "(12.0, 18.0]",
         "1",
         "0.0012165450121654502"
        ],
        [
         "(18.0, 24.0]",
         "2",
         "0.0024330900243309003"
        ],
        [
         "(24.0, 30.0]",
         "7",
         "0.00851581508515815"
        ],
        [
         "(30.0, 36.0]",
         "8",
         "0.009732360097323601"
        ]
       ],
       "shape": {
        "columns": 2,
        "rows": 6
       }
      },
      "text/html": [
       "<div>\n",
       "<style scoped>\n",
       "    .dataframe tbody tr th:only-of-type {\n",
       "        vertical-align: middle;\n",
       "    }\n",
       "\n",
       "    .dataframe tbody tr th {\n",
       "        vertical-align: top;\n",
       "    }\n",
       "\n",
       "    .dataframe thead th {\n",
       "        text-align: right;\n",
       "    }\n",
       "</style>\n",
       "<table border=\"1\" class=\"dataframe\">\n",
       "  <thead>\n",
       "    <tr style=\"text-align: right;\">\n",
       "      <th></th>\n",
       "      <th>Calories</th>\n",
       "      <th>Relative Frequency</th>\n",
       "    </tr>\n",
       "  </thead>\n",
       "  <tbody>\n",
       "    <tr>\n",
       "      <th>(-0.001, 6.0]</th>\n",
       "      <td>0</td>\n",
       "      <td>0.000000</td>\n",
       "    </tr>\n",
       "    <tr>\n",
       "      <th>(6.0, 12.0]</th>\n",
       "      <td>0</td>\n",
       "      <td>0.000000</td>\n",
       "    </tr>\n",
       "    <tr>\n",
       "      <th>(12.0, 18.0]</th>\n",
       "      <td>1</td>\n",
       "      <td>0.001217</td>\n",
       "    </tr>\n",
       "    <tr>\n",
       "      <th>(18.0, 24.0]</th>\n",
       "      <td>2</td>\n",
       "      <td>0.002433</td>\n",
       "    </tr>\n",
       "    <tr>\n",
       "      <th>(24.0, 30.0]</th>\n",
       "      <td>7</td>\n",
       "      <td>0.008516</td>\n",
       "    </tr>\n",
       "    <tr>\n",
       "      <th>(30.0, 36.0]</th>\n",
       "      <td>8</td>\n",
       "      <td>0.009732</td>\n",
       "    </tr>\n",
       "  </tbody>\n",
       "</table>\n",
       "</div>"
      ],
      "text/plain": [
       "               Calories  Relative Frequency\n",
       "(-0.001, 6.0]         0            0.000000\n",
       "(6.0, 12.0]           0            0.000000\n",
       "(12.0, 18.0]          1            0.001217\n",
       "(18.0, 24.0]          2            0.002433\n",
       "(24.0, 30.0]          7            0.008516\n",
       "(30.0, 36.0]          8            0.009732"
      ]
     },
     "execution_count": 8,
     "metadata": {},
     "output_type": "execute_result"
    }
   ],
   "source": [
    "totalOccurances = calDf['Calories'].sum()\n",
    "relFreqDf = calBins\n",
    "relFreq = []\n",
    "\n",
    "for frequency in calBins['Calories']:\n",
    "    relFreq.append(frequency/totalOccurances)\n",
    "\n",
    "relFreqDf['Relative Frequency'] = relFreq\n",
    "relFreqDf"
   ]
  },
  {
   "cell_type": "markdown",
   "metadata": {},
   "source": [
    "PROBLEM 21 a:"
   ]
  },
  {
   "cell_type": "markdown",
   "metadata": {},
   "source": [
    "**WRITTEN ANSWER: The data possesses a ratio and interval level of measurement.**"
   ]
  },
  {
   "cell_type": "markdown",
   "metadata": {},
   "source": [
    "Initialize and sort dataframe."
   ]
  },
  {
   "cell_type": "code",
   "execution_count": 9,
   "metadata": {},
   "outputs": [
    {
     "name": "stdout",
     "output_type": "stream",
     "text": [
      "123\n",
      "125\n",
      "125\n",
      "135\n",
      "135\n",
      "135\n",
      "147\n",
      "147\n",
      "148\n",
      "148\n",
      "148\n",
      "149\n",
      "156\n",
      "156\n",
      "156\n",
      "156\n",
      "158\n",
      "158\n",
      "169\n",
      "178\n",
      "178\n",
      "179\n",
      "179\n",
      "189\n",
      "189\n",
      "189\n",
      "198\n",
      "199\n",
      "199\n",
      "214\n",
      "215\n",
      "215\n",
      "235\n",
      "239\n",
      "248\n",
      "248\n",
      "249\n",
      "256\n",
      "257\n",
      "258\n",
      "258\n",
      "258\n",
      "259\n",
      "259\n",
      "259\n",
      "265\n",
      "268\n",
      "269\n",
      "269\n",
      "288\n"
     ]
    }
   ],
   "source": [
    "dailyChargesDf = pd.DataFrame({\n",
    "    'Daily Charges' : [125,135,148,156,248,215,156,148,135,149,\n",
    "                 178,156,135,125,214,256,258,265,156,148,\n",
    "                 123,147,189,199,189,248,215,259,158,235,\n",
    "                 268,269,158,198,147,258,269,239,288,199,\n",
    "                 179,179,189,169,258,178,257,249,259,259]\n",
    "}).sort_values('Daily Charges')\n",
    "for i in dailyChargesDf['Daily Charges']:\n",
    "    print(i)"
   ]
  },
  {
   "cell_type": "markdown",
   "metadata": {},
   "source": [
    "PROBLEM 21 b:"
   ]
  },
  {
   "cell_type": "markdown",
   "metadata": {},
   "source": [
    "Using python library stemgraphic:"
   ]
  },
  {
   "cell_type": "code",
   "execution_count": 10,
   "metadata": {},
   "outputs": [
    {
     "data": {
      "text/plain": [
       "(<Figure size 750x500 with 1 Axes>, <Axes: >)"
      ]
     },
     "execution_count": 10,
     "metadata": {},
     "output_type": "execute_result"
    },
    {
     "data": {
      "image/png": "[encoded data removed]",
      "text/plain": [
       "<Figure size 750x500 with 1 Axes>"
      ]
     },
     "metadata": {},
     "output_type": "display_data"
    }
   ],
   "source": [
    "import stemgraphic\n",
    "stemgraphic.stem_graphic(dailyChargesDf['Daily Charges'], aggregation=False, scale = 10) \n"
   ]
  },
  {
   "cell_type": "markdown",
   "metadata": {},
   "source": [
    "PROBLEM 21 c:\n",
    "\n",
    "**WRITTEN ANSWER: It looks like a bimodal distribution**"
   ]
  },
  {
   "cell_type": "markdown",
   "metadata": {},
   "source": [
    "**SECTION 4.1**"
   ]
  },
  {
   "cell_type": "markdown",
   "metadata": {},
   "source": [
    "PROBLEM 22 a"
   ]
  },
  {
   "cell_type": "markdown",
   "metadata": {},
   "source": [
    "Find the mean:"
   ]
  },
  {
   "cell_type": "code",
   "execution_count": 11,
   "metadata": {},
   "outputs": [
    {
     "data": {
      "text/plain": [
       "7.450952380952383"
      ]
     },
     "execution_count": 11,
     "metadata": {},
     "output_type": "execute_result"
    }
   ],
   "source": [
    "csvDf = pd.read_csv('MTA2.csv').set_index('Year')\n",
    "csvDf['On Course'].mean()"
   ]
  },
  {
   "cell_type": "markdown",
   "metadata": {},
   "source": [
    "PROBLEM 22 b:"
   ]
  },
  {
   "cell_type": "markdown",
   "metadata": {},
   "source": [
    "Find the median:"
   ]
  },
  {
   "cell_type": "code",
   "execution_count": 12,
   "metadata": {},
   "outputs": [
    {
     "data": {
      "text/plain": [
       "7.68"
      ]
     },
     "execution_count": 12,
     "metadata": {},
     "output_type": "execute_result"
    }
   ],
   "source": [
    "csvDf['On Course'].median()"
   ]
  },
  {
   "cell_type": "markdown",
   "metadata": {},
   "source": [
    "PROBLEM 22 c:\n",
    "\n",
    "Find the mode"
   ]
  },
  {
   "cell_type": "code",
   "execution_count": 13,
   "metadata": {},
   "outputs": [
    {
     "data": {
      "text/plain": [
       "0      0.11\n",
       "1      0.55\n",
       "2      0.61\n",
       "3      0.89\n",
       "4      2.07\n",
       "5      2.29\n",
       "6      2.38\n",
       "7      2.93\n",
       "8      6.37\n",
       "9      6.70\n",
       "10     7.68\n",
       "11     7.74\n",
       "12     7.77\n",
       "13     8.29\n",
       "14     9.12\n",
       "15    11.03\n",
       "16    11.94\n",
       "17    11.99\n",
       "18    12.09\n",
       "19    21.02\n",
       "20    22.90\n",
       "Name: On Course, dtype: float64"
      ]
     },
     "execution_count": 13,
     "metadata": {},
     "output_type": "execute_result"
    }
   ],
   "source": [
    "csvDf['On Course'].mode()\n"
   ]
  },
  {
   "cell_type": "markdown",
   "metadata": {},
   "source": [
    "**Pandas is returning 21 modes because there is no mode**"
   ]
  },
  {
   "cell_type": "markdown",
   "metadata": {},
   "source": [
    "PROBLEM 22 d:"
   ]
  },
  {
   "cell_type": "code",
   "execution_count": 14,
   "metadata": {},
   "outputs": [
    {
     "name": "stdout",
     "output_type": "stream",
     "text": [
      "0.1 Trimmed Mean: 6.581764705882353\n",
      "Mean: 7.450952380952383\n",
      "Median: 7.68\n"
     ]
    }
   ],
   "source": [
    "from scipy import stats\n",
    "print(\"0.1 Trimmed Mean: \" + str(stats.trim_mean(csvDf,0.1)[0]))\n",
    "print(\"Mean: \" + str(csvDf['On Course'].mean()))\n",
    "print(\"Median: \" + str(csvDf['On Course'].median()))"
   ]
  },
  {
   "cell_type": "markdown",
   "metadata": {},
   "source": [
    "**WRITTEN ANSWER: Trimmed mean is less than median and mode meaning that there are high end outliers**"
   ]
  },
  {
   "cell_type": "markdown",
   "metadata": {},
   "source": [
    "PROBLEM 22 e:\n",
    "\n",
    "**WRITTEN ANSWER: Median is more than mean meaning it is negative skewed**"
   ]
  },
  {
   "cell_type": "markdown",
   "metadata": {},
   "source": [
    "**SECTION 4.2**\n",
    "\n",
    "PROBLEM 14 a, b, c:"
   ]
  },
  {
   "cell_type": "code",
   "execution_count": 15,
   "metadata": {},
   "outputs": [
    {
     "name": "stdout",
     "output_type": "stream",
     "text": [
      "sample variance: 5.822222222222222\n",
      "standard deviation: 2.4129281427805145\n",
      "range: [2,10]\n"
     ]
    }
   ],
   "source": [
    "batteryFailures = pd.DataFrame({\n",
    "    \"years until failure\": [5,3,4,6,2,5,7,10,8,4]\n",
    "})\n",
    "min = batteryFailures[\"years until failure\"].min()\n",
    "max = batteryFailures[\"years until failure\"].max()\n",
    "print(\"sample variance: \"+ str(batteryFailures['years until failure'].var()))\n",
    "print(\"standard deviation: \" + str(batteryFailures[\"years until failure\"].std()))\n",
    "\n",
    "print(\"range: [\" + str(min) + \",\" + str(max) + \"]\")"
   ]
  },
  {
   "cell_type": "markdown",
   "metadata": {},
   "source": [
    "\n",
    "PROBLEM 14 d:\n",
    "\n",
    "**WRITTEN ANSWER: Could be from manufacturing defects, climate, operator error, or car electrical system differences**"
   ]
  },
  {
   "cell_type": "markdown",
   "metadata": {},
   "source": [
    "**SECTION 5.1**\n",
    "\n",
    "PROBLEM 22 a"
   ]
  },
  {
   "cell_type": "code",
   "execution_count": 16,
   "metadata": {},
   "outputs": [
    {
     "data": {
      "application/vnd.microsoft.datawrangler.viewer.v0+json": {
       "columns": [
        {
         "name": "roll outcome",
         "rawType": "int64",
         "type": "integer"
        },
        {
         "name": "relative frequency",
         "rawType": "float64",
         "type": "float"
        }
       ],
       "conversionMethod": "pd.DataFrame",
       "ref": "1cf1bddd-dffa-447e-8c7d-ea53bf3724c2",
       "rows": [
        [
         "1",
         "0.42424242424242425"
        ],
        [
         "2",
         "0.21212121212121213"
        ],
        [
         "3",
         "0.15151515151515152"
        ],
        [
         "4",
         "0.06060606060606061"
        ],
        [
         "5",
         "0.09090909090909091"
        ],
        [
         "6",
         "0.06060606060606061"
        ]
       ],
       "shape": {
        "columns": 1,
        "rows": 6
       }
      },
      "text/html": [
       "<div>\n",
       "<style scoped>\n",
       "    .dataframe tbody tr th:only-of-type {\n",
       "        vertical-align: middle;\n",
       "    }\n",
       "\n",
       "    .dataframe tbody tr th {\n",
       "        vertical-align: top;\n",
       "    }\n",
       "\n",
       "    .dataframe thead th {\n",
       "        text-align: right;\n",
       "    }\n",
       "</style>\n",
       "<table border=\"1\" class=\"dataframe\">\n",
       "  <thead>\n",
       "    <tr style=\"text-align: right;\">\n",
       "      <th></th>\n",
       "      <th>relative frequency</th>\n",
       "    </tr>\n",
       "    <tr>\n",
       "      <th>roll outcome</th>\n",
       "      <th></th>\n",
       "    </tr>\n",
       "  </thead>\n",
       "  <tbody>\n",
       "    <tr>\n",
       "      <th>1</th>\n",
       "      <td>0.424242</td>\n",
       "    </tr>\n",
       "    <tr>\n",
       "      <th>2</th>\n",
       "      <td>0.212121</td>\n",
       "    </tr>\n",
       "    <tr>\n",
       "      <th>3</th>\n",
       "      <td>0.151515</td>\n",
       "    </tr>\n",
       "    <tr>\n",
       "      <th>4</th>\n",
       "      <td>0.060606</td>\n",
       "    </tr>\n",
       "    <tr>\n",
       "      <th>5</th>\n",
       "      <td>0.090909</td>\n",
       "    </tr>\n",
       "    <tr>\n",
       "      <th>6</th>\n",
       "      <td>0.060606</td>\n",
       "    </tr>\n",
       "  </tbody>\n",
       "</table>\n",
       "</div>"
      ],
      "text/plain": [
       "              relative frequency\n",
       "roll outcome                    \n",
       "1                       0.424242\n",
       "2                       0.212121\n",
       "3                       0.151515\n",
       "4                       0.060606\n",
       "5                       0.090909\n",
       "6                       0.060606"
      ]
     },
     "execution_count": 16,
     "metadata": {},
     "output_type": "execute_result"
    }
   ],
   "source": [
    "rolls = pd.DataFrame({\n",
    "    \"rolls\" : [1,2,1,3,1,4,1,5,6,3,1,3,1,5,1,2,1,3,1,2,1,2,2,1,3,5,1,2,1,2,1,4,6],\n",
    "})\n",
    "\n",
    "bins  = calculateBins(rolls, 'rolls')\n",
    "rollBins = rolls.apply(pd.Series.value_counts, bins = bins).sort_index()\n",
    "\n",
    "\n",
    "totalOccurances = rollBins['rolls'].sum()\n",
    "relFreqDf = rollBins\n",
    "relFreq = []\n",
    "\n",
    "for frequency in rollBins['rolls']:\n",
    "    relFreq.append(frequency/totalOccurances)\n",
    "\n",
    "df = pd.DataFrame({\n",
    "    \"roll outcome\" : [1,2,3,4,5,6],\n",
    "    \"relative frequency\" : [relFreq[0], relFreq[1],relFreq[2],relFreq[3],relFreq[4], relFreq[5]],\n",
    "}).set_index(\"roll outcome\")\n",
    "df"
   ]
  },
  {
   "cell_type": "markdown",
   "metadata": {},
   "source": [
    "Probabilities:\n",
    "\n",
    "1: 42%\n",
    "\n",
    "2: 21%\n",
    "\n",
    "3: 15%\n",
    "\n",
    "4: 6%\n",
    "\n",
    "5: 9%\n",
    "\n",
    "6: 6%"
   ]
  }
 ],
 "metadata": {
  "kernelspec": {
   "display_name": "base",
   "language": "python",
   "name": "python3"
  },
  "language_info": {
   "codemirror_mode": {
    "name": "ipython",
    "version": 3
   },
   "file_extension": ".py",
   "mimetype": "text/x-python",
   "name": "python",
   "nbconvert_exporter": "python",
   "pygments_lexer": "ipython3",
   "version": "3.10.12"
  }
 },
 "nbformat": 4,
 "nbformat_minor": 2
}
