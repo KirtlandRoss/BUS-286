{
 "cells": [
  {
   "cell_type": "markdown",
   "id": "54d43d1e",
   "metadata": {},
   "source": [
    "***12.1 # 6***\n"
   ]
  },
  {
   "cell_type": "code",
   "execution_count": 390,
   "id": "b0303d32",
   "metadata": {},
   "outputs": [],
   "source": [
    "import pandas as pd\n"
   ]
  },
  {
   "cell_type": "code",
   "execution_count": null,
   "id": "e0391ef5",
   "metadata": {},
   "outputs": [],
   "source": [
    "from scipy.stats import f_oneway\n",
    "\n",
    "# -- origin calculation\n",
    "def findSST(df: pd.DataFrame):\n",
    "    sum = 0\n",
    "    grandMean = findGrandMean(df)\n",
    "    for columnName in df.columns:\n",
    "        column = df[columnName]\n",
    "        sum = column.size*(column.mean() - grandMean)**2 + sum\n",
    "    return sum\n",
    "\n",
    "# -- origin calculation \n",
    "def findTSS (df: pd.DataFrame):\n",
    "    sum = 0\n",
    "    grandMean = findGrandMean(df)\n",
    "    for columnName in df.columns:\n",
    "        for element in df[columnName]:\n",
    "            sum = (element - grandMean)**2 + sum\n",
    "    return sum\n",
    "\n",
    "# -- origin calculation\n",
    "def findMSE (df: pd.DataFrame):\n",
    "    numeratorSum = 0\n",
    "    denominator = (df.size - df.shape[1])\n",
    "    for columnName in df.columns:\n",
    "        columnMean = df[columnName].mean()\n",
    "        for element in df[columnName]:\n",
    "            numeratorSum = ((element - columnMean) ** 2) + numeratorSum\n",
    "    return numeratorSum / denominator\n",
    "\n",
    "def findSSE( df: pd.DataFrame):\n",
    "    mse=findMSE(df)\n",
    "    return mse*(df.size - df.shape[1])\n",
    "\n",
    "def findMST (df: pd.DataFrame):\n",
    "    return findSST(df) / (df.shape[1] - 1)\n",
    "\n",
    "def findF (df: pd.DataFrame):\n",
    "    return findMST(df) / findMSE(df)\n",
    "\n",
    "def findGrandMean(df: pd.DataFrame):\n",
    "    sum = 0\n",
    "    for columnName in df.columns:\n",
    "        for element in df[columnName]:\n",
    "            sum = element + sum\n",
    "    return sum / df.size\n",
    "\n",
    "def generateANOVAFrame (df: pd.DataFrame):\n",
    "    treaments = df.columns.size - 1\n",
    "    total = df.size - 1\n",
    "    error = total - treaments \n",
    "    sst = round(findSST(df),3)\n",
    "    sse = round(findSSE(df),3)\n",
    "    tss = round(findTSS(df),3)\n",
    "    mst = round(findMST(df),3)\n",
    "    mse = round(findMSE(df),3)\n",
    "    f_value = round(findF(df),3)\n",
    "    p_value = round(f_oneway(*[df[column] for column in df.columns]).pvalue, 5)\n",
    "\n",
    "    return pd.DataFrame({\n",
    "        'source' : ['Treatments' , 'Error' , 'Total'],\n",
    "        'df' : [treaments, error, total],\n",
    "        'Sum of Squares' : [sst, sse, tss ],\n",
    "        'Mean Squares' : [mst, mse , None],\n",
    "        'F' : [f_value, None, None],\n",
    "        'P-value' : [p_value,None, None]\n",
    "    }).set_index('source')\n",
    "\n",
    "def makeDetermination(df: pd.DataFrame, alpha = 0.05 ):\n",
    "    p_value = round(f_oneway(*[df[column] for column in df.columns]).pvalue, 5)\n",
    "    if p_value < alpha:\n",
    "        return (True, str(alpha) + \" > \" + str(p_value) +  \": Reject Null Hypothesis at α=\" + str(alpha))\n",
    "    return (False, str(alpha) + \" < \" + str(p_value) +  \": Fail to Reject Null Hypothesis at α=\" + str(alpha))"
   ]
  },
  {
   "cell_type": "code",
   "execution_count": 392,
   "id": "6ba5a073",
   "metadata": {},
   "outputs": [
    {
     "name": "stdout",
     "output_type": "stream",
     "text": [
      "13.287878787878784\n"
     ]
    }
   ],
   "source": [
    "df1216 = pd.DataFrame({\n",
    "    \"strategy1\" : [3,6,7,4,6,7,10,6,15,8,9,16],\n",
    "    \"strategy2\" : [2,5,5,3,7,8,6,4,10,6,9,12],\n",
    "    \"strategy3\" : [4,2,5,6,6,7,9,8,14,8,7,16]\n",
    "})\n",
    "print(findMSE(df1216))\n"
   ]
  },
  {
   "cell_type": "markdown",
   "id": "50c9f5f7",
   "metadata": {},
   "source": [
    "***12.1 Problem 20***"
   ]
  },
  {
   "cell_type": "code",
   "execution_count": 393,
   "id": "fbff7f6c",
   "metadata": {},
   "outputs": [],
   "source": [
    "df = pd.DataFrame({\n",
    "    'day' : ['Monday','Tuesday','Wednesday','Thursday','Friday','Saturday','Sunday'],\n",
    "    'firstShift' : [140,181,127,172,161,152,173],\n",
    "    'secondShift' : [168,224,162,182,219,171,217],\n",
    "    'thirdShift' : [77,123,77,101,147,145,111]\n",
    "}).set_index('day')"
   ]
  },
  {
   "cell_type": "code",
   "execution_count": 394,
   "id": "ad10fb48",
   "metadata": {},
   "outputs": [
    {
     "name": "stdout",
     "output_type": "stream",
     "text": [
      "153.80952380952382\n"
     ]
    }
   ],
   "source": [
    "sum = 0\n",
    "for columnName in df.columns:\n",
    "    sum = df[columnName].mean() + sum\n",
    "print(str(sum/df.shape[1]))"
   ]
  },
  {
   "cell_type": "code",
   "execution_count": 395,
   "id": "4fefc612",
   "metadata": {},
   "outputs": [
    {
     "name": "stdout",
     "output_type": "stream",
     "text": [
      "7\n"
     ]
    }
   ],
   "source": [
    "print(df.shape[0])"
   ]
  },
  {
   "cell_type": "code",
   "execution_count": 396,
   "id": "fb8ff1c7",
   "metadata": {},
   "outputs": [
    {
     "name": "stdout",
     "output_type": "stream",
     "text": [
      "3\n"
     ]
    }
   ],
   "source": [
    "print(df.shape[1])"
   ]
  },
  {
   "cell_type": "code",
   "execution_count": 397,
   "id": "7ddae65a",
   "metadata": {},
   "outputs": [
    {
     "data": {
      "text/plain": [
       "21"
      ]
     },
     "execution_count": 397,
     "metadata": {},
     "output_type": "execute_result"
    }
   ],
   "source": [
    "df.size"
   ]
  },
  {
   "cell_type": "markdown",
   "id": "ea5663d1",
   "metadata": {},
   "source": [
    "***12.3 Problem 10***"
   ]
  },
  {
   "cell_type": "code",
   "execution_count": 398,
   "id": "12d45e81",
   "metadata": {},
   "outputs": [
    {
     "name": "stdout",
     "output_type": "stream",
     "text": [
      "            df  Sum of Squares  Mean Squares       F  P-value\n",
      "source                                                       \n",
      "Treatments   3           775.0       258.333  27.928      0.0\n",
      "Error       16           148.0         9.250     NaN      NaN\n",
      "Total       19           923.0           NaN     NaN      NaN\n",
      "0.1 > 0.0: Reject Null Hypothesis at α=0.1\n"
     ]
    }
   ],
   "source": [
    "df = pd.DataFrame({\n",
    "    'minivanA': [150,152,151,149,153],\n",
    "    'minivanB': [153,150,156,151,155],\n",
    "    'minivanC' : [155,150,157,158,155],\n",
    "    'minivanD': [167,164,169,162,173]\n",
    "})\n",
    "\n",
    "print(generateANOVAFrame(df))\n",
    "print(makeDetermination(df, 0.10)[1])\n"
   ]
  },
  {
   "cell_type": "code",
   "execution_count": null,
   "id": "da12d3e6",
   "metadata": {},
   "outputs": [],
   "source": [
    "\n"
   ]
  }
 ],
 "metadata": {
  "kernelspec": {
   "display_name": "base",
   "language": "python",
   "name": "python3"
  },
  "language_info": {
   "codemirror_mode": {
    "name": "ipython",
    "version": 3
   },
   "file_extension": ".py",
   "mimetype": "text/x-python",
   "name": "python",
   "nbconvert_exporter": "python",
   "pygments_lexer": "ipython3",
   "version": "3.10.12"
  }
 },
 "nbformat": 4,
 "nbformat_minor": 5
}
