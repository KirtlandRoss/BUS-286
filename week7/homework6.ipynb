{
 "cells": [
  {
   "cell_type": "markdown",
   "id": "54d43d1e",
   "metadata": {},
   "source": [
    "***12.1 # 6***\n"
   ]
  },
  {
   "cell_type": "code",
   "execution_count": null,
   "id": "b0303d32",
   "metadata": {},
   "outputs": [],
   "source": [
    "import pandas as pd"
   ]
  },
  {
   "cell_type": "code",
   "execution_count": null,
   "id": "e0391ef5",
   "metadata": {},
   "outputs": [],
   "source": [
    "def findMSE (df: pd.DataFrame):\n",
    "    numeratorSum = 0\n",
    "    denominator = (df.size - df.shape[1])\n",
    "    for columnName in df.columns:\n",
    "        columnMean = df[columnName].mean()\n",
    "        for element in df[columnName]:\n",
    "            numeratorSum = ((element - columnMean) ** 2) + numeratorSum\n",
    "    return numeratorSum / denominator"
   ]
  },
  {
   "cell_type": "code",
   "execution_count": null,
   "id": "6ba5a073",
   "metadata": {},
   "outputs": [
    {
     "data": {
      "text/plain": [
       "13.287878787878784"
      ]
     },
     "execution_count": 6,
     "metadata": {},
     "output_type": "execute_result"
    }
   ],
   "source": [
    "df1216 = pd.DataFrame({\n",
    "    \"strategy1\" : [3,6,7,4,6,7,10,6,15,8,9,16],\n",
    "    \"strategy2\" : [2,5,5,3,7,8,6,4,10,6,9,12],\n",
    "    \"strategy3\" : [4,2,5,6,6,7,9,8,14,8,7,16]\n",
    "})\n",
    "print(findMSE(df1216))"
   ]
  },
  {
   "cell_type": "markdown",
   "id": "50c9f5f7",
   "metadata": {},
   "source": [
    "***12.1 Problem 20***"
   ]
  },
  {
   "cell_type": "code",
   "execution_count": null,
   "id": "fbff7f6c",
   "metadata": {},
   "outputs": [],
   "source": [
    "df = pd.DataFrame({\n",
    "    'day' : ['Monday','Tuesday','Wednesday','Thursday','Friday','Saturday','Sunday'],\n",
    "    'firstShift' : [140,181,127,172,161,152,173],\n",
    "    'secondShift' : [168,224,162,182,219,171,217],\n",
    "    'thirdShift' : [77,123,77,101,147,145,111]\n",
    "}).set_index('day')"
   ]
  },
  {
   "cell_type": "code",
   "execution_count": 12,
   "id": "ad10fb48",
   "metadata": {},
   "outputs": [
    {
     "name": "stdout",
     "output_type": "stream",
     "text": [
      "153.80952380952382\n"
     ]
    }
   ],
   "source": [
    "sum = 0\n",
    "for columnName in df.columns:\n",
    "    sum = df[columnName].mean() + sum\n",
    "print(str(sum/df.shape[1]))"
   ]
  },
  {
   "cell_type": "code",
   "execution_count": 13,
   "id": "4fefc612",
   "metadata": {},
   "outputs": [
    {
     "name": "stdout",
     "output_type": "stream",
     "text": [
      "7\n"
     ]
    }
   ],
   "source": [
    "print(df.shape[0])"
   ]
  },
  {
   "cell_type": "code",
   "execution_count": 14,
   "id": "fb8ff1c7",
   "metadata": {},
   "outputs": [
    {
     "name": "stdout",
     "output_type": "stream",
     "text": [
      "3\n"
     ]
    }
   ],
   "source": [
    "print(df.shape[1])"
   ]
  },
  {
   "cell_type": "code",
   "execution_count": 15,
   "id": "7ddae65a",
   "metadata": {},
   "outputs": [
    {
     "data": {
      "text/plain": [
       "21"
      ]
     },
     "execution_count": 15,
     "metadata": {},
     "output_type": "execute_result"
    }
   ],
   "source": [
    "df.size"
   ]
  },
  {
   "cell_type": "markdown",
   "id": "ea5663d1",
   "metadata": {},
   "source": [
    "***12.3 Problem 10***"
   ]
  },
  {
   "cell_type": "code",
   "execution_count": null,
   "id": "12d45e81",
   "metadata": {},
   "outputs": [],
   "source": [
    "from scipy.stats import ttest_ind\n",
    "df = pd.DataFrame({\n",
    "    'minivanA': [150,152,151,149,153],\n",
    "    'minivanB': [153,150,156,151,155],\n",
    "    'minivanC' : [155,150,157,158,155],\n",
    "    'minivanD': [167,164,169,162,173]\n",
    "})"
   ]
  },
  {
   "cell_type": "code",
   "execution_count": null,
   "id": "da12d3e6",
   "metadata": {},
   "outputs": [
    {
     "ename": "TypeError",
     "evalue": "ttest_ind() missing 1 required positional argument: 'b'",
     "output_type": "error",
     "traceback": [
      "\u001b[0;31m---------------------------------------------------------------------------\u001b[0m",
      "\u001b[0;31mKeyError\u001b[0m                                  Traceback (most recent call last)",
      "File \u001b[0;32m~/miniforge3/lib/python3.10/site-packages/scipy/stats/_axis_nan_policy.py:509\u001b[0m, in \u001b[0;36m_axis_nan_policy_factory.<locals>.axis_nan_policy_decorator.<locals>.axis_nan_policy_wrapper\u001b[0;34m(_no_deco, *args, **kwds)\u001b[0m\n\u001b[1;32m    508\u001b[0m \u001b[38;5;28;01mtry\u001b[39;00m:  \u001b[38;5;66;03m# if something is missing\u001b[39;00m\n\u001b[0;32m--> 509\u001b[0m     samples \u001b[38;5;241m=\u001b[39m [np\u001b[38;5;241m.\u001b[39matleast_1d(kwds\u001b[38;5;241m.\u001b[39mpop(param))\n\u001b[1;32m    510\u001b[0m                \u001b[38;5;28;01mfor\u001b[39;00m param \u001b[38;5;129;01min\u001b[39;00m (params[:n_samp] \u001b[38;5;241m+\u001b[39m kwd_samp)]\n\u001b[1;32m    511\u001b[0m \u001b[38;5;28;01mexcept\u001b[39;00m \u001b[38;5;167;01mKeyError\u001b[39;00m:  \u001b[38;5;66;03m# let the function raise the right error\u001b[39;00m\n\u001b[1;32m    512\u001b[0m     \u001b[38;5;66;03m# might need to revisit this if required arg is not a \"sample\"\u001b[39;00m\n",
      "File \u001b[0;32m~/miniforge3/lib/python3.10/site-packages/scipy/stats/_axis_nan_policy.py:509\u001b[0m, in \u001b[0;36m<listcomp>\u001b[0;34m(.0)\u001b[0m\n\u001b[1;32m    508\u001b[0m \u001b[38;5;28;01mtry\u001b[39;00m:  \u001b[38;5;66;03m# if something is missing\u001b[39;00m\n\u001b[0;32m--> 509\u001b[0m     samples \u001b[38;5;241m=\u001b[39m [np\u001b[38;5;241m.\u001b[39matleast_1d(\u001b[43mkwds\u001b[49m\u001b[38;5;241;43m.\u001b[39;49m\u001b[43mpop\u001b[49m\u001b[43m(\u001b[49m\u001b[43mparam\u001b[49m\u001b[43m)\u001b[49m)\n\u001b[1;32m    510\u001b[0m                \u001b[38;5;28;01mfor\u001b[39;00m param \u001b[38;5;129;01min\u001b[39;00m (params[:n_samp] \u001b[38;5;241m+\u001b[39m kwd_samp)]\n\u001b[1;32m    511\u001b[0m \u001b[38;5;28;01mexcept\u001b[39;00m \u001b[38;5;167;01mKeyError\u001b[39;00m:  \u001b[38;5;66;03m# let the function raise the right error\u001b[39;00m\n\u001b[1;32m    512\u001b[0m     \u001b[38;5;66;03m# might need to revisit this if required arg is not a \"sample\"\u001b[39;00m\n",
      "\u001b[0;31mKeyError\u001b[0m: 'b'",
      "\nDuring handling of the above exception, another exception occurred:\n",
      "\u001b[0;31mTypeError\u001b[0m                                 Traceback (most recent call last)",
      "Cell \u001b[0;32mIn[19], line 1\u001b[0m\n\u001b[0;32m----> 1\u001b[0m result \u001b[38;5;241m=\u001b[39m \u001b[43mttest_ind\u001b[49m\u001b[43m(\u001b[49m\u001b[43mdf\u001b[49m\u001b[43m)\u001b[49m\n",
      "File \u001b[0;32m~/miniforge3/lib/python3.10/site-packages/scipy/_lib/deprecation.py:234\u001b[0m, in \u001b[0;36m_deprecate_positional_args.<locals>._inner_deprecate_positional_args.<locals>.inner_f\u001b[0;34m(*args, **kwargs)\u001b[0m\n\u001b[1;32m    232\u001b[0m \u001b[38;5;28;01mif\u001b[39;00m extra_args \u001b[38;5;241m<\u001b[39m\u001b[38;5;241m=\u001b[39m \u001b[38;5;241m0\u001b[39m:\n\u001b[1;32m    233\u001b[0m     warn_deprecated_args(kwargs)\n\u001b[0;32m--> 234\u001b[0m     \u001b[38;5;28;01mreturn\u001b[39;00m \u001b[43mf\u001b[49m\u001b[43m(\u001b[49m\u001b[38;5;241;43m*\u001b[39;49m\u001b[43margs\u001b[49m\u001b[43m,\u001b[49m\u001b[43m \u001b[49m\u001b[38;5;241;43m*\u001b[39;49m\u001b[38;5;241;43m*\u001b[39;49m\u001b[43mkwargs\u001b[49m\u001b[43m)\u001b[49m\n\u001b[1;32m    236\u001b[0m \u001b[38;5;66;03m# extra_args > 0\u001b[39;00m\n\u001b[1;32m    237\u001b[0m kwonly_extra_args \u001b[38;5;241m=\u001b[39m \u001b[38;5;28mset\u001b[39m(kwonly_args[:extra_args]) \u001b[38;5;241m-\u001b[39m deprecated_args\n",
      "File \u001b[0;32m~/miniforge3/lib/python3.10/site-packages/scipy/stats/_axis_nan_policy.py:513\u001b[0m, in \u001b[0;36m_axis_nan_policy_factory.<locals>.axis_nan_policy_decorator.<locals>.axis_nan_policy_wrapper\u001b[0;34m(_no_deco, *args, **kwds)\u001b[0m\n\u001b[1;32m    509\u001b[0m     samples \u001b[38;5;241m=\u001b[39m [np\u001b[38;5;241m.\u001b[39matleast_1d(kwds\u001b[38;5;241m.\u001b[39mpop(param))\n\u001b[1;32m    510\u001b[0m                \u001b[38;5;28;01mfor\u001b[39;00m param \u001b[38;5;129;01min\u001b[39;00m (params[:n_samp] \u001b[38;5;241m+\u001b[39m kwd_samp)]\n\u001b[1;32m    511\u001b[0m \u001b[38;5;28;01mexcept\u001b[39;00m \u001b[38;5;167;01mKeyError\u001b[39;00m:  \u001b[38;5;66;03m# let the function raise the right error\u001b[39;00m\n\u001b[1;32m    512\u001b[0m     \u001b[38;5;66;03m# might need to revisit this if required arg is not a \"sample\"\u001b[39;00m\n\u001b[0;32m--> 513\u001b[0m     \u001b[43mhypotest_fun_in\u001b[49m\u001b[43m(\u001b[49m\u001b[38;5;241;43m*\u001b[39;49m\u001b[43margs\u001b[49m\u001b[43m,\u001b[49m\u001b[43m \u001b[49m\u001b[38;5;241;43m*\u001b[39;49m\u001b[38;5;241;43m*\u001b[39;49m\u001b[43mkwds\u001b[49m\u001b[43m)\u001b[49m\n\u001b[1;32m    514\u001b[0m vectorized \u001b[38;5;241m=\u001b[39m \u001b[38;5;28;01mTrue\u001b[39;00m \u001b[38;5;28;01mif\u001b[39;00m \u001b[38;5;124m'\u001b[39m\u001b[38;5;124maxis\u001b[39m\u001b[38;5;124m'\u001b[39m \u001b[38;5;129;01min\u001b[39;00m params \u001b[38;5;28;01melse\u001b[39;00m \u001b[38;5;28;01mFalse\u001b[39;00m\n\u001b[1;32m    515\u001b[0m vectorized \u001b[38;5;241m=\u001b[39m vectorized \u001b[38;5;129;01mand\u001b[39;00m \u001b[38;5;129;01mnot\u001b[39;00m override[\u001b[38;5;124m'\u001b[39m\u001b[38;5;124mvectorization\u001b[39m\u001b[38;5;124m'\u001b[39m]\n",
      "\u001b[0;31mTypeError\u001b[0m: ttest_ind() missing 1 required positional argument: 'b'"
     ]
    }
   ],
   "source": [
    "\n",
    "result = ttest\n"
   ]
  }
 ],
 "metadata": {
  "kernelspec": {
   "display_name": "base",
   "language": "python",
   "name": "python3"
  },
  "language_info": {
   "codemirror_mode": {
    "name": "ipython",
    "version": 3
   },
   "file_extension": ".py",
   "mimetype": "text/x-python",
   "name": "python",
   "nbconvert_exporter": "python",
   "pygments_lexer": "ipython3",
   "version": "3.10.12"
  }
 },
 "nbformat": 4,
 "nbformat_minor": 5
}
