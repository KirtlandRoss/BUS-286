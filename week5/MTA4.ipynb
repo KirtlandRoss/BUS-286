{
 "cells": [
  {
   "cell_type": "code",
   "execution_count": 1,
   "id": "0981c1b8",
   "metadata": {},
   "outputs": [],
   "source": [
    "import pandas as pd\n",
    "import random\n",
    "import seaborn as sns\n",
    "from scipy.stats import ttest_ind\n",
    "import math\n",
    "\n",
    "testRollSet = pd.read_csv('FairOrUnfairDie.csv')\n",
    "standardDieList = []\n",
    "for _ in range (1000000):\n",
    "   standardDieList.append(random.randint(1,6))\n",
    "\n",
    "fairDieTestSet = pd.Series(standardDieList)"
   ]
  },
  {
   "cell_type": "markdown",
   "id": "fbae16c2",
   "metadata": {},
   "source": [
    "***QUESTION 1.\tFind the descriptive statistics for each of the dice. (You can include them all in the same table) Include the mean, median, mode, and standard deviation. Paste your results here.***"
   ]
  },
  {
   "cell_type": "code",
   "execution_count": 2,
   "id": "f5c8e5bc",
   "metadata": {},
   "outputs": [
    {
     "data": {
      "application/vnd.microsoft.datawrangler.viewer.v0+json": {
       "columns": [
        {
         "name": "index",
         "rawType": "object",
         "type": "string"
        },
        {
         "name": "D1",
         "rawType": "float64",
         "type": "float"
        },
        {
         "name": "D2",
         "rawType": "float64",
         "type": "float"
        },
        {
         "name": "D3",
         "rawType": "float64",
         "type": "float"
        },
        {
         "name": "D4",
         "rawType": "float64",
         "type": "float"
        },
        {
         "name": "D5",
         "rawType": "float64",
         "type": "float"
        },
        {
         "name": "D6",
         "rawType": "float64",
         "type": "float"
        },
        {
         "name": "D7",
         "rawType": "float64",
         "type": "float"
        },
        {
         "name": "D8",
         "rawType": "float64",
         "type": "float"
        },
        {
         "name": "D9",
         "rawType": "float64",
         "type": "float"
        },
        {
         "name": "D10",
         "rawType": "float64",
         "type": "float"
        }
       ],
       "conversionMethod": "pd.DataFrame",
       "ref": "977f877d-47b8-4c9d-b0e8-3a31446a3129",
       "rows": [
        [
         "count",
         "30.0",
         "30.0",
         "30.0",
         "30.0",
         "30.0",
         "30.0",
         "30.0",
         "30.0",
         "30.0",
         "30.0"
        ],
        [
         "mean",
         "2.7333333333333334",
         "4.5",
         "3.433333333333333",
         "3.3666666666666667",
         "3.5",
         "3.5",
         "3.8666666666666667",
         "4.3",
         "3.7333333333333334",
         "3.5"
        ],
        [
         "std",
         "1.5959719411009734",
         "1.6347519056735944",
         "1.5241353305225642",
         "1.6914252984479936",
         "1.5701965613830997",
         "1.6557111192308964",
         "1.6344003083137535",
         "1.7049623314678062",
         "1.659524928558094",
         "1.717054414417017"
        ],
        [
         "min",
         "1.0",
         "1.0",
         "1.0",
         "1.0",
         "1.0",
         "1.0",
         "1.0",
         "1.0",
         "1.0",
         "1.0"
        ],
        [
         "25%",
         "2.0",
         "3.0",
         "3.0",
         "2.0",
         "2.0",
         "2.0",
         "2.0",
         "3.0",
         "3.0",
         "2.0"
        ],
        [
         "50%",
         "2.0",
         "5.0",
         "3.0",
         "3.0",
         "3.5",
         "4.0",
         "4.0",
         "5.0",
         "4.0",
         "3.5"
        ],
        [
         "75%",
         "3.75",
         "6.0",
         "5.0",
         "5.0",
         "5.0",
         "4.75",
         "5.0",
         "6.0",
         "5.0",
         "5.0"
        ],
        [
         "max",
         "6.0",
         "6.0",
         "6.0",
         "6.0",
         "6.0",
         "6.0",
         "6.0",
         "6.0",
         "6.0",
         "6.0"
        ]
       ],
       "shape": {
        "columns": 10,
        "rows": 8
       }
      },
      "text/html": [
       "<div>\n",
       "<style scoped>\n",
       "    .dataframe tbody tr th:only-of-type {\n",
       "        vertical-align: middle;\n",
       "    }\n",
       "\n",
       "    .dataframe tbody tr th {\n",
       "        vertical-align: top;\n",
       "    }\n",
       "\n",
       "    .dataframe thead th {\n",
       "        text-align: right;\n",
       "    }\n",
       "</style>\n",
       "<table border=\"1\" class=\"dataframe\">\n",
       "  <thead>\n",
       "    <tr style=\"text-align: right;\">\n",
       "      <th></th>\n",
       "      <th>D1</th>\n",
       "      <th>D2</th>\n",
       "      <th>D3</th>\n",
       "      <th>D4</th>\n",
       "      <th>D5</th>\n",
       "      <th>D6</th>\n",
       "      <th>D7</th>\n",
       "      <th>D8</th>\n",
       "      <th>D9</th>\n",
       "      <th>D10</th>\n",
       "    </tr>\n",
       "  </thead>\n",
       "  <tbody>\n",
       "    <tr>\n",
       "      <th>count</th>\n",
       "      <td>30.000000</td>\n",
       "      <td>30.000000</td>\n",
       "      <td>30.000000</td>\n",
       "      <td>30.000000</td>\n",
       "      <td>30.000000</td>\n",
       "      <td>30.000000</td>\n",
       "      <td>30.000000</td>\n",
       "      <td>30.000000</td>\n",
       "      <td>30.000000</td>\n",
       "      <td>30.000000</td>\n",
       "    </tr>\n",
       "    <tr>\n",
       "      <th>mean</th>\n",
       "      <td>2.733333</td>\n",
       "      <td>4.500000</td>\n",
       "      <td>3.433333</td>\n",
       "      <td>3.366667</td>\n",
       "      <td>3.500000</td>\n",
       "      <td>3.500000</td>\n",
       "      <td>3.866667</td>\n",
       "      <td>4.300000</td>\n",
       "      <td>3.733333</td>\n",
       "      <td>3.500000</td>\n",
       "    </tr>\n",
       "    <tr>\n",
       "      <th>std</th>\n",
       "      <td>1.595972</td>\n",
       "      <td>1.634752</td>\n",
       "      <td>1.524135</td>\n",
       "      <td>1.691425</td>\n",
       "      <td>1.570197</td>\n",
       "      <td>1.655711</td>\n",
       "      <td>1.634400</td>\n",
       "      <td>1.704962</td>\n",
       "      <td>1.659525</td>\n",
       "      <td>1.717054</td>\n",
       "    </tr>\n",
       "    <tr>\n",
       "      <th>min</th>\n",
       "      <td>1.000000</td>\n",
       "      <td>1.000000</td>\n",
       "      <td>1.000000</td>\n",
       "      <td>1.000000</td>\n",
       "      <td>1.000000</td>\n",
       "      <td>1.000000</td>\n",
       "      <td>1.000000</td>\n",
       "      <td>1.000000</td>\n",
       "      <td>1.000000</td>\n",
       "      <td>1.000000</td>\n",
       "    </tr>\n",
       "    <tr>\n",
       "      <th>25%</th>\n",
       "      <td>2.000000</td>\n",
       "      <td>3.000000</td>\n",
       "      <td>3.000000</td>\n",
       "      <td>2.000000</td>\n",
       "      <td>2.000000</td>\n",
       "      <td>2.000000</td>\n",
       "      <td>2.000000</td>\n",
       "      <td>3.000000</td>\n",
       "      <td>3.000000</td>\n",
       "      <td>2.000000</td>\n",
       "    </tr>\n",
       "    <tr>\n",
       "      <th>50%</th>\n",
       "      <td>2.000000</td>\n",
       "      <td>5.000000</td>\n",
       "      <td>3.000000</td>\n",
       "      <td>3.000000</td>\n",
       "      <td>3.500000</td>\n",
       "      <td>4.000000</td>\n",
       "      <td>4.000000</td>\n",
       "      <td>5.000000</td>\n",
       "      <td>4.000000</td>\n",
       "      <td>3.500000</td>\n",
       "    </tr>\n",
       "    <tr>\n",
       "      <th>75%</th>\n",
       "      <td>3.750000</td>\n",
       "      <td>6.000000</td>\n",
       "      <td>5.000000</td>\n",
       "      <td>5.000000</td>\n",
       "      <td>5.000000</td>\n",
       "      <td>4.750000</td>\n",
       "      <td>5.000000</td>\n",
       "      <td>6.000000</td>\n",
       "      <td>5.000000</td>\n",
       "      <td>5.000000</td>\n",
       "    </tr>\n",
       "    <tr>\n",
       "      <th>max</th>\n",
       "      <td>6.000000</td>\n",
       "      <td>6.000000</td>\n",
       "      <td>6.000000</td>\n",
       "      <td>6.000000</td>\n",
       "      <td>6.000000</td>\n",
       "      <td>6.000000</td>\n",
       "      <td>6.000000</td>\n",
       "      <td>6.000000</td>\n",
       "      <td>6.000000</td>\n",
       "      <td>6.000000</td>\n",
       "    </tr>\n",
       "  </tbody>\n",
       "</table>\n",
       "</div>"
      ],
      "text/plain": [
       "              D1         D2         D3         D4         D5         D6  \\\n",
       "count  30.000000  30.000000  30.000000  30.000000  30.000000  30.000000   \n",
       "mean    2.733333   4.500000   3.433333   3.366667   3.500000   3.500000   \n",
       "std     1.595972   1.634752   1.524135   1.691425   1.570197   1.655711   \n",
       "min     1.000000   1.000000   1.000000   1.000000   1.000000   1.000000   \n",
       "25%     2.000000   3.000000   3.000000   2.000000   2.000000   2.000000   \n",
       "50%     2.000000   5.000000   3.000000   3.000000   3.500000   4.000000   \n",
       "75%     3.750000   6.000000   5.000000   5.000000   5.000000   4.750000   \n",
       "max     6.000000   6.000000   6.000000   6.000000   6.000000   6.000000   \n",
       "\n",
       "              D7         D8         D9        D10  \n",
       "count  30.000000  30.000000  30.000000  30.000000  \n",
       "mean    3.866667   4.300000   3.733333   3.500000  \n",
       "std     1.634400   1.704962   1.659525   1.717054  \n",
       "min     1.000000   1.000000   1.000000   1.000000  \n",
       "25%     2.000000   3.000000   3.000000   2.000000  \n",
       "50%     4.000000   5.000000   4.000000   3.500000  \n",
       "75%     5.000000   6.000000   5.000000   5.000000  \n",
       "max     6.000000   6.000000   6.000000   6.000000  "
      ]
     },
     "execution_count": 2,
     "metadata": {},
     "output_type": "execute_result"
    }
   ],
   "source": [
    "testRollSet.describe()"
   ]
  },
  {
   "cell_type": "markdown",
   "id": "64e7703f",
   "metadata": {},
   "source": [
    "***QUESTION 2.\tWhich of these dice do you think might be unfair? Choose at least one. Give a reason based on the values in the descriptive statistics for choosing the die or dice.*** \n"
   ]
  },
  {
   "cell_type": "markdown",
   "id": "69e9a4bf",
   "metadata": {},
   "source": [
    "**I will print boxplots of all the data to get a quick visualization to know which die to focus on with the described stats**"
   ]
  },
  {
   "cell_type": "code",
   "execution_count": 3,
   "id": "b24b2d37",
   "metadata": {},
   "outputs": [
    {
     "data": {
      "text/plain": [
       "<Axes: >"
      ]
     },
     "execution_count": 3,
     "metadata": {},
     "output_type": "execute_result"
    },
    {
     "data": {
      "image/png": "[encoded data removed]",
      "text/plain": [
       "<Figure size 640x480 with 1 Axes>"
      ]
     },
     "metadata": {},
     "output_type": "display_data"
    }
   ],
   "source": [
    "\n",
    "sns.boxplot(testRollSet)\n"
   ]
  },
  {
   "cell_type": "markdown",
   "id": "d13d5563",
   "metadata": {},
   "source": [
    "**D2 has a mean of 4.5 and a median of 5, it is likely unfair**"
   ]
  },
  {
   "cell_type": "markdown",
   "id": "8855804d",
   "metadata": {},
   "source": [
    "***QUESTION 3.\tCalculate the 95% confidence intervals for all the samples then paste the output below. Write the true mean (µ) for a 6-sided die below. If you do not remember, look back at the sampling distribution activity.***"
   ]
  },
  {
   "cell_type": "markdown",
   "id": "b6ebaacf",
   "metadata": {},
   "source": [
    "**Null Hypothesis:  Each dice is fair with a mean of 3.5**\n",
    "\n",
    "**Alternative Hypothesis: The dice is unfair and does not possess a mean of 3.5**"
   ]
  },
  {
   "cell_type": "code",
   "execution_count": 4,
   "id": "3c732a53",
   "metadata": {},
   "outputs": [
    {
     "name": "stdout",
     "output_type": "stream",
     "text": [
      "Comparing sample means to test roll mean (mu=3.5) at alpha = .05: \n",
      "\n",
      "D1 confidence interval: [1.353, 2.576]\n",
      "D2 confidence interval: [4.887, 6.109]\n",
      "D3 confidence interval: [2.753, 3.976]\n",
      "D4 confidence interval: [2.62, 3.842]\n",
      "D5 confidence interval: [2.887, 4.109]\n",
      "D6 confidence interval: [2.887, 4.109]\n",
      "D7 confidence interval: [3.62, 4.842]\n",
      "D8 confidence interval: [4.487, 5.709]\n",
      "D9 confidence interval: [3.353, 4.576]\n",
      "D10 confidence interval: [2.887, 4.109]\n"
     ]
    }
   ],
   "source": [
    "print(\"Comparing sample means to test roll mean (mu=3.5) at alpha = .05: \\n\")\n",
    "outsideConfidence = []\n",
    "withinConfidence = []\n",
    "twoTailAlpha = 0.025\n",
    "for columnName in testRollSet.columns:\n",
    "    column = testRollSet[columnName]\n",
    "    result = ttest_ind(column, fairDieTestSet)\n",
    "    ub = round(column.mean() + result.confidence_interval(confidence_level=0.95).high,3)\n",
    "    lb = round(column.mean() + result.confidence_interval(confidence_level=0.95).low,3)\n",
    "    interval  = [lb, ub]\n",
    "    print(columnName +\" confidence interval: \" + str(interval))\n",
    "    if ub < 3.5 or lb > 3.5:\n",
    "        outsideConfidence.append(columnName)\n",
    "    else:\n",
    "       withinConfidence.append(columnName)\n",
    "\n",
    "\n"
   ]
  },
  {
   "cell_type": "markdown",
   "id": "ca2c2a23",
   "metadata": {},
   "source": [
    "***4.\tExamine each of the confidence intervals and decide if the true mean for a 6-sided die is in the interval. If the true mean is in the interval, what do you think this indicates? If the true mean is not in the interval, what do you think this indicates?***"
   ]
  },
  {
   "cell_type": "code",
   "execution_count": 5,
   "id": "792ae0fa",
   "metadata": {},
   "outputs": [
    {
     "name": "stdout",
     "output_type": "stream",
     "text": [
      "\n",
      "Dies where the null hypothesis mean falls inside the alpha=0.95 confidence interval: ['D3', 'D4', 'D5', 'D6', 'D9', 'D10']\n",
      "\n",
      "Dies where the null hypothesis mean does not fall within the confidence interval: ['D1', 'D2', 'D7', 'D8']\n"
     ]
    }
   ],
   "source": [
    "print(\"\\nDies where the null hypothesis mean falls inside the alpha=0.95 confidence interval: \" + str(withinConfidence))\n",
    "\n",
    "print(\"\\nDies where the null hypothesis mean does not fall within the confidence interval: \" + str(outsideConfidence))"
   ]
  },
  {
   "cell_type": "markdown",
   "id": "babf18e4",
   "metadata": {},
   "source": [
    "**My own words here and this is really complicated, so I could get this wrong: Confidence intervals mean that if the sample's procedure were repeated 100 times, 95 of the calculated confidence intervals for each sample would contain the true mean of the population (in this case the true mean of the die). This does not indicate a 95% chance that the true mean falls within the interval for a single sample. This is for judging the procedures that are producing the sample sets, not the population itself. In this case using an unfair die could be considered a prodecural failure (if we consider using a fair die to be the only valid procedure), so is useful here.**\n",
    "\n",
    "**If for instance you wanted to know how many loaded die are in a bag, you would consider rolling any die a valid procedure regardless of their fairness, then these confidence intervals would be worthless.**\n",
    "\n",
    "**Anyways, the dies where the interval does not contain the null hypothesis mean could indicate a problem with the die**\n",
    "--------\n"
   ]
  },
  {
   "cell_type": "markdown",
   "id": "2a9450ca",
   "metadata": {},
   "source": [
    "***QUESTION 5.    Using α=0.05, have Minitab perform the hypothesis tests for the ones that you think might be unfair. Paste your results below.***"
   ]
  },
  {
   "cell_type": "markdown",
   "id": "ff4d36d1",
   "metadata": {},
   "source": [
    "***QUESTION 6.\tFor each of the dice that you performed a hypothesis test for above, does the evidence suggest unfair or fair? Make sure to include the p-value and what it indicates for each die.***"
   ]
  },
  {
   "cell_type": "markdown",
   "id": "c58e9cf0",
   "metadata": {},
   "source": [
    "**The code below answers both questions**"
   ]
  },
  {
   "cell_type": "code",
   "execution_count": 6,
   "id": "6765daf8",
   "metadata": {},
   "outputs": [
    {
     "name": "stdout",
     "output_type": "stream",
     "text": [
      "D1 level of significance: 0.014 < 0.05, reject null: likely unfair\n",
      "D2 level of significance: 0.001 < 0.05, reject null: likely unfair\n",
      "D3 level of significance: 0.825 > 0.05, fail to reject null: can't be determined\n",
      "D4 level of significance: 0.664 > 0.05, fail to reject null: can't be determined\n",
      "D5 level of significance: 0.995 > 0.05, fail to reject null: can't be determined\n",
      "D6 level of significance: 0.995 > 0.05, fail to reject null: can't be determined\n",
      "D7 level of significance: 0.242 > 0.05, fail to reject null: can't be determined\n",
      "D8 level of significance: 0.011 < 0.05, reject null: likely unfair\n",
      "D9 level of significance: 0.458 > 0.05, fail to reject null: can't be determined\n",
      "D10 level of significance: 0.995 > 0.05, fail to reject null: can't be determined\n"
     ]
    }
   ],
   "source": [
    "\n",
    "failToRejectNull = []\n",
    "def makeDetermination(p: tuple, columnName: str):\n",
    "    if p < 0.05:\n",
    "        return \" < 0.05, reject null: likely unfair\"\n",
    "    failToRejectNull.append(columnName)\n",
    "    return \" > 0.05, fail to reject null: can't be determined\"\n",
    "\n",
    "\n",
    "\n",
    "for columnName in testRollSet.columns:\n",
    "    column = testRollSet[columnName]\n",
    "    t,p = ttest_ind(column, fairDieTestSet)\n",
    "\n",
    "    \n",
    "    \n",
    "    print(columnName + \" level of significance: \"+ str(round(p,3)) + makeDetermination(p, columnName))\n",
    "    \n"
   ]
  },
  {
   "cell_type": "markdown",
   "id": "35739850",
   "metadata": {},
   "source": [
    "***7.    Now you will do a further analysis on the remaining dice that you did not include as unfair in question 6. You will be doing directional hypothesis tests (alternative > or alternative <). If the sample mean for a die is above the true mean µ, perform a right-tailed hypothesis test at the α=0.05 level of significance. If the sample mean for a die is below the true mean µ, perform a left-tailed hypothesis test at the α=0.05 level of significance. Paste your results below.***"
   ]
  },
  {
   "cell_type": "code",
   "execution_count": 7,
   "id": "239653c5",
   "metadata": {},
   "outputs": [
    {
     "name": "stdout",
     "output_type": "stream",
     "text": [
      "@ alpha = .05 and 29 degrees of freedom: t=1.699\n",
      "D3 mean is less than mu, the t test : -0.221 > -1.699. This means we fail to reject the null.\n",
      "D4 mean is less than mu, the t test : -0.434 > -1.699. This means we fail to reject the null.\n",
      "D5 mean is exactly mu, therefore fail to reject the null\n",
      "D6 mean is exactly mu, therefore fail to reject the null\n",
      "D7 mean is greater than mu, the t test : 1.169 < 1.699. This means we fail to reject the null.\n",
      "D9 mean is greater than mu, the t test : 0.741 < 1.699. This means we fail to reject the null.\n",
      "D10 mean is exactly mu, therefore fail to reject the null\n"
     ]
    }
   ],
   "source": [
    "print(\"@ alpha = .05 and 29 degrees of freedom: t=1.699\")\n",
    "\n",
    "for columnName in failToRejectNull:\n",
    "    column = testRollSet[columnName]\n",
    "    if column.mean()>3.5:\n",
    "        t, p = ttest_ind(column, fairDieTestSet, alternative=\"greater\")\n",
    "        criticalValue = 1.699\n",
    "        if t > criticalValue:\n",
    "            print(columnName+ \" mean is greater than mu, the t test : \"+ str(round(t,3)) + \" > \" + str(criticalValue) + \". This means we reject the null.\")\n",
    "        else:\n",
    "            print(columnName + \" mean is greater than mu, the t test : \"+ str(round(t,3)) + \" < \" + str(criticalValue) + \". This means we fail to reject the null.\")\n",
    "\n",
    "    elif column.mean()<3.5:\n",
    "        t,p = ttest_ind(column, fairDieTestSet, alternative=\"less\")\n",
    "        criticalValue = -1.699\n",
    "        if t < criticalValue:\n",
    "            print(columnName + \" mean is less than mu, the t test : \"+ str(round(t,3)) + \" < \" + str(criticalValue) + \". This means we reject the null.\")\n",
    "        else:\n",
    "            print(columnName + \" mean is less than mu, the t test : \"+ str(round(t,3)) + \" > \" + str(criticalValue) + \". This means we fail to reject the null.\")\n",
    "    else: \n",
    "        print(columnName + \" mean is exactly mu, therefore fail to reject the null\")\n",
    "\n",
    "    "
   ]
  },
  {
   "cell_type": "markdown",
   "id": "9b5fad01",
   "metadata": {},
   "source": [
    "***8. Do your results from Minitab suggest that any of these dice are unfair? Make sure to include the\n",
    "p-value for each die and make a statement about the die being fair or unfair based on the p-\n",
    "value.***"
   ]
  },
  {
   "cell_type": "markdown",
   "id": "a79b4519",
   "metadata": {},
   "source": [
    "**D1, D2, and D8 are likely unfair.**\n",
    "\n",
    "**D1 mean has a p-value of 0.014, D2 mean has a p-value of 0.001 and D8 has a p-value of 0.010. All of which are below the alpha = 0.05**\n"
   ]
  }
 ],
 "metadata": {
  "kernelspec": {
   "display_name": "base",
   "language": "python",
   "name": "python3"
  },
  "language_info": {
   "codemirror_mode": {
    "name": "ipython",
    "version": 3
   },
   "file_extension": ".py",
   "mimetype": "text/x-python",
   "name": "python",
   "nbconvert_exporter": "python",
   "pygments_lexer": "ipython3",
   "version": "3.10.12"
  }
 },
 "nbformat": 4,
 "nbformat_minor": 5
}
