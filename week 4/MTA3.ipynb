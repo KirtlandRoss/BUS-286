{
 "cells": [
  {
   "cell_type": "code",
   "execution_count": 1,
   "id": "33cb4ecd",
   "metadata": {},
   "outputs": [],
   "source": [
    "import pandas as pd\n",
    "import math\n",
    "import seaborn as sns\n",
    "import matplotlib.pyplot as plt\n",
    "\n",
    "df = pd.read_csv(\"Fair Die.csv\")"
   ]
  },
  {
   "cell_type": "markdown",
   "id": "3a88eaf3",
   "metadata": {},
   "source": [
    "***QUESTION 1:***\n",
    "\n",
    "***1. The first statistical analysis you will do is to find the descriptive statistics for each column. You need to find the mean, median, mode, variance, standard deviation, min, max, first quartile, third quartile, and the sample size for each column. There is a video in Canvas that shows you how to do this if you need it. Paste the table with the descriptive statistics below.***\n",
    "\n",
    "Mean, median, mode, std, min, max, 25%, 75%, count"
   ]
  },
  {
   "cell_type": "markdown",
   "id": "183ce0e6",
   "metadata": {},
   "source": [
    "**Add Mode to description dataframe, Display all required descriptive stats. Some samples have multiple modes**\n",
    "\n",
    "50% is the median for the output dataframe"
   ]
  },
  {
   "cell_type": "code",
   "execution_count": 2,
   "id": "4deaa742",
   "metadata": {},
   "outputs": [
    {
     "data": {
      "application/vnd.microsoft.datawrangler.viewer.v0+json": {
       "columns": [
        {
         "name": "index",
         "rawType": "object",
         "type": "string"
        },
        {
         "name": "D1",
         "rawType": "float64",
         "type": "float"
        },
        {
         "name": "D2",
         "rawType": "float64",
         "type": "float"
        },
        {
         "name": "D3",
         "rawType": "float64",
         "type": "float"
        },
        {
         "name": "D4",
         "rawType": "float64",
         "type": "float"
        },
        {
         "name": "D5",
         "rawType": "float64",
         "type": "float"
        },
        {
         "name": "D6",
         "rawType": "float64",
         "type": "float"
        },
        {
         "name": "D7",
         "rawType": "float64",
         "type": "float"
        },
        {
         "name": "D8",
         "rawType": "float64",
         "type": "float"
        },
        {
         "name": "D9",
         "rawType": "float64",
         "type": "float"
        },
        {
         "name": "D10",
         "rawType": "float64",
         "type": "float"
        }
       ],
       "conversionMethod": "pd.DataFrame",
       "ref": "d93d1f1d-e0c6-47fe-bd4e-8c32279acacc",
       "rows": [
        [
         "count",
         "30.0",
         "30.0",
         "30.0",
         "30.0",
         "30.0",
         "30.0",
         "30.0",
         "30.0",
         "30.0",
         "30.0"
        ],
        [
         "mean",
         "3.2666666666666666",
         "3.7333333333333334",
         "3.433333333333333",
         "3.3666666666666667",
         "3.5",
         "3.5",
         "2.8",
         "4.266666666666667",
         "3.7333333333333334",
         "3.5"
        ],
        [
         "std",
         "1.112106833535071",
         "1.9640446187314113",
         "1.5241353305225642",
         "1.6914252984479936",
         "1.5701965613830997",
         "1.6557111192308964",
         "1.5402641958779175",
         "1.5959719411009734",
         "1.659524928558094",
         "1.717054414417017"
        ],
        [
         "min",
         "2.0",
         "1.0",
         "1.0",
         "1.0",
         "1.0",
         "1.0",
         "1.0",
         "1.0",
         "1.0",
         "1.0"
        ],
        [
         "25%",
         "2.0",
         "2.0",
         "3.0",
         "2.0",
         "2.0",
         "2.0",
         "2.0",
         "3.0",
         "3.0",
         "2.0"
        ],
        [
         "50%",
         "3.0",
         "3.5",
         "3.0",
         "3.0",
         "3.5",
         "4.0",
         "2.5",
         "4.5",
         "4.0",
         "3.5"
        ],
        [
         "75%",
         "4.0",
         "6.0",
         "5.0",
         "5.0",
         "5.0",
         "4.75",
         "4.0",
         "6.0",
         "5.0",
         "5.0"
        ],
        [
         "max",
         "5.0",
         "6.0",
         "6.0",
         "6.0",
         "6.0",
         "6.0",
         "6.0",
         "6.0",
         "6.0",
         "6.0"
        ],
        [
         "variance",
         "1.236781609195402",
         "3.857471264367815",
         "2.322988505747126",
         "2.8609195402298844",
         "2.4655172413793105",
         "2.741379310344828",
         "2.3724137931034477",
         "2.547126436781609",
         "2.754022988505747",
         "2.9482758620689653"
        ],
        [
         "mode",
         "3.0",
         "6.0",
         "3.0",
         "2.0",
         "2.0",
         "4.0",
         "2.0",
         "6.0",
         "4.0",
         "5.0"
        ],
        [
         "mode2",
         null,
         null,
         null,
         null,
         "5.0",
         null,
         null,
         null,
         null,
         null
        ]
       ],
       "shape": {
        "columns": 10,
        "rows": 11
       }
      },
      "text/html": [
       "<div>\n",
       "<style scoped>\n",
       "    .dataframe tbody tr th:only-of-type {\n",
       "        vertical-align: middle;\n",
       "    }\n",
       "\n",
       "    .dataframe tbody tr th {\n",
       "        vertical-align: top;\n",
       "    }\n",
       "\n",
       "    .dataframe thead th {\n",
       "        text-align: right;\n",
       "    }\n",
       "</style>\n",
       "<table border=\"1\" class=\"dataframe\">\n",
       "  <thead>\n",
       "    <tr style=\"text-align: right;\">\n",
       "      <th></th>\n",
       "      <th>D1</th>\n",
       "      <th>D2</th>\n",
       "      <th>D3</th>\n",
       "      <th>D4</th>\n",
       "      <th>D5</th>\n",
       "      <th>D6</th>\n",
       "      <th>D7</th>\n",
       "      <th>D8</th>\n",
       "      <th>D9</th>\n",
       "      <th>D10</th>\n",
       "    </tr>\n",
       "  </thead>\n",
       "  <tbody>\n",
       "    <tr>\n",
       "      <th>count</th>\n",
       "      <td>30.000000</td>\n",
       "      <td>30.000000</td>\n",
       "      <td>30.000000</td>\n",
       "      <td>30.000000</td>\n",
       "      <td>30.000000</td>\n",
       "      <td>30.000000</td>\n",
       "      <td>30.000000</td>\n",
       "      <td>30.000000</td>\n",
       "      <td>30.000000</td>\n",
       "      <td>30.000000</td>\n",
       "    </tr>\n",
       "    <tr>\n",
       "      <th>mean</th>\n",
       "      <td>3.266667</td>\n",
       "      <td>3.733333</td>\n",
       "      <td>3.433333</td>\n",
       "      <td>3.366667</td>\n",
       "      <td>3.500000</td>\n",
       "      <td>3.500000</td>\n",
       "      <td>2.800000</td>\n",
       "      <td>4.266667</td>\n",
       "      <td>3.733333</td>\n",
       "      <td>3.500000</td>\n",
       "    </tr>\n",
       "    <tr>\n",
       "      <th>std</th>\n",
       "      <td>1.112107</td>\n",
       "      <td>1.964045</td>\n",
       "      <td>1.524135</td>\n",
       "      <td>1.691425</td>\n",
       "      <td>1.570197</td>\n",
       "      <td>1.655711</td>\n",
       "      <td>1.540264</td>\n",
       "      <td>1.595972</td>\n",
       "      <td>1.659525</td>\n",
       "      <td>1.717054</td>\n",
       "    </tr>\n",
       "    <tr>\n",
       "      <th>min</th>\n",
       "      <td>2.000000</td>\n",
       "      <td>1.000000</td>\n",
       "      <td>1.000000</td>\n",
       "      <td>1.000000</td>\n",
       "      <td>1.000000</td>\n",
       "      <td>1.000000</td>\n",
       "      <td>1.000000</td>\n",
       "      <td>1.000000</td>\n",
       "      <td>1.000000</td>\n",
       "      <td>1.000000</td>\n",
       "    </tr>\n",
       "    <tr>\n",
       "      <th>25%</th>\n",
       "      <td>2.000000</td>\n",
       "      <td>2.000000</td>\n",
       "      <td>3.000000</td>\n",
       "      <td>2.000000</td>\n",
       "      <td>2.000000</td>\n",
       "      <td>2.000000</td>\n",
       "      <td>2.000000</td>\n",
       "      <td>3.000000</td>\n",
       "      <td>3.000000</td>\n",
       "      <td>2.000000</td>\n",
       "    </tr>\n",
       "    <tr>\n",
       "      <th>50%</th>\n",
       "      <td>3.000000</td>\n",
       "      <td>3.500000</td>\n",
       "      <td>3.000000</td>\n",
       "      <td>3.000000</td>\n",
       "      <td>3.500000</td>\n",
       "      <td>4.000000</td>\n",
       "      <td>2.500000</td>\n",
       "      <td>4.500000</td>\n",
       "      <td>4.000000</td>\n",
       "      <td>3.500000</td>\n",
       "    </tr>\n",
       "    <tr>\n",
       "      <th>75%</th>\n",
       "      <td>4.000000</td>\n",
       "      <td>6.000000</td>\n",
       "      <td>5.000000</td>\n",
       "      <td>5.000000</td>\n",
       "      <td>5.000000</td>\n",
       "      <td>4.750000</td>\n",
       "      <td>4.000000</td>\n",
       "      <td>6.000000</td>\n",
       "      <td>5.000000</td>\n",
       "      <td>5.000000</td>\n",
       "    </tr>\n",
       "    <tr>\n",
       "      <th>max</th>\n",
       "      <td>5.000000</td>\n",
       "      <td>6.000000</td>\n",
       "      <td>6.000000</td>\n",
       "      <td>6.000000</td>\n",
       "      <td>6.000000</td>\n",
       "      <td>6.000000</td>\n",
       "      <td>6.000000</td>\n",
       "      <td>6.000000</td>\n",
       "      <td>6.000000</td>\n",
       "      <td>6.000000</td>\n",
       "    </tr>\n",
       "    <tr>\n",
       "      <th>variance</th>\n",
       "      <td>1.236782</td>\n",
       "      <td>3.857471</td>\n",
       "      <td>2.322989</td>\n",
       "      <td>2.860920</td>\n",
       "      <td>2.465517</td>\n",
       "      <td>2.741379</td>\n",
       "      <td>2.372414</td>\n",
       "      <td>2.547126</td>\n",
       "      <td>2.754023</td>\n",
       "      <td>2.948276</td>\n",
       "    </tr>\n",
       "    <tr>\n",
       "      <th>mode</th>\n",
       "      <td>3.000000</td>\n",
       "      <td>6.000000</td>\n",
       "      <td>3.000000</td>\n",
       "      <td>2.000000</td>\n",
       "      <td>2.000000</td>\n",
       "      <td>4.000000</td>\n",
       "      <td>2.000000</td>\n",
       "      <td>6.000000</td>\n",
       "      <td>4.000000</td>\n",
       "      <td>5.000000</td>\n",
       "    </tr>\n",
       "    <tr>\n",
       "      <th>mode2</th>\n",
       "      <td>NaN</td>\n",
       "      <td>NaN</td>\n",
       "      <td>NaN</td>\n",
       "      <td>NaN</td>\n",
       "      <td>5.000000</td>\n",
       "      <td>NaN</td>\n",
       "      <td>NaN</td>\n",
       "      <td>NaN</td>\n",
       "      <td>NaN</td>\n",
       "      <td>NaN</td>\n",
       "    </tr>\n",
       "  </tbody>\n",
       "</table>\n",
       "</div>"
      ],
      "text/plain": [
       "                 D1         D2         D3         D4         D5         D6  \\\n",
       "count     30.000000  30.000000  30.000000  30.000000  30.000000  30.000000   \n",
       "mean       3.266667   3.733333   3.433333   3.366667   3.500000   3.500000   \n",
       "std        1.112107   1.964045   1.524135   1.691425   1.570197   1.655711   \n",
       "min        2.000000   1.000000   1.000000   1.000000   1.000000   1.000000   \n",
       "25%        2.000000   2.000000   3.000000   2.000000   2.000000   2.000000   \n",
       "50%        3.000000   3.500000   3.000000   3.000000   3.500000   4.000000   \n",
       "75%        4.000000   6.000000   5.000000   5.000000   5.000000   4.750000   \n",
       "max        5.000000   6.000000   6.000000   6.000000   6.000000   6.000000   \n",
       "variance   1.236782   3.857471   2.322989   2.860920   2.465517   2.741379   \n",
       "mode       3.000000   6.000000   3.000000   2.000000   2.000000   4.000000   \n",
       "mode2           NaN        NaN        NaN        NaN   5.000000        NaN   \n",
       "\n",
       "                 D7         D8         D9        D10  \n",
       "count     30.000000  30.000000  30.000000  30.000000  \n",
       "mean       2.800000   4.266667   3.733333   3.500000  \n",
       "std        1.540264   1.595972   1.659525   1.717054  \n",
       "min        1.000000   1.000000   1.000000   1.000000  \n",
       "25%        2.000000   3.000000   3.000000   2.000000  \n",
       "50%        2.500000   4.500000   4.000000   3.500000  \n",
       "75%        4.000000   6.000000   5.000000   5.000000  \n",
       "max        6.000000   6.000000   6.000000   6.000000  \n",
       "variance   2.372414   2.547126   2.754023   2.948276  \n",
       "mode       2.000000   6.000000   4.000000   5.000000  \n",
       "mode2           NaN        NaN        NaN        NaN  "
      ]
     },
     "execution_count": 2,
     "metadata": {},
     "output_type": "execute_result"
    }
   ],
   "source": [
    "dfDescribed = df.describe()\n",
    "\n",
    "def describeWithMode(df : pd.DataFrame, modeSeries : pd.Series):\n",
    "    dfModeItterator = pd.DataFrame(modeSeries)\n",
    "    rows = []\n",
    "\n",
    "    for _, row in dfModeItterator.iterrows():\n",
    "        rows.append(row)\n",
    "\n",
    "    dfMode = pd.DataFrame(rows, index=['mode', 'mode2']) \n",
    "    return pd.concat([df, dfMode], ignore_index=False)\n",
    "\n",
    "def addVariance(df : pd.DataFrame):\n",
    "    varienceRow = []\n",
    "    for die in df.columns:\n",
    "       dfColumnSeries = df[die]\n",
    "       varienceRow.append(math.pow(dfColumnSeries['std'],2))\n",
    "    df.loc['variance'] = varienceRow\n",
    "    return df\n",
    "\n",
    "describedWithVariance = addVariance(dfDescribed)\n",
    "fullyDescribedDf = describeWithMode(describedWithVariance, df.mode())\n",
    "fullyDescribedDf"
   ]
  },
  {
   "cell_type": "markdown",
   "id": "1490b90c",
   "metadata": {},
   "source": [
    "***QUESTION 2:***\n",
    "\n",
    "***Remember from Activity 2, the true mean of this scenario is μ=3.5 and the true standard deviation is σ=1.71. Carefully examine the table with the descriptive statistics. Consider the mean and median of each die. Are there any means that seem to be higher or lower than they should be? Is there a difference between the mean and median for any of the samples? Are any of the standard deviations or variances for any of the dice different than they should be? After having carefully considered the data and knowing these parameters, which one of the dice is definitely fair? Paste the descriptive statistics for only that die below.***"
   ]
  },
  {
   "cell_type": "markdown",
   "id": "a46eae2e",
   "metadata": {},
   "source": [
    "**Sus die 1: D1 Variance/standard deviation is very low, and min and max inidcate that the die never rolled a 1 or a 6, mean is low**\n",
    "\n",
    "**Sus die 2: D2 has a high mean and variance**\n",
    "\n",
    "**Sus die 3: D4 has a low mean**\n",
    "\n",
    "**Sus die 4: D7 mean is very low, standard deviation is low, median is low**\n",
    "\n",
    "**Sus die 5: D8 has a very high mean, median is high**\n",
    "\n",
    "**Fair die: most likely fair die is D10, has a mean and standard deviation very close to the population**"
   ]
  },
  {
   "cell_type": "code",
   "execution_count": 3,
   "id": "c9e10045",
   "metadata": {},
   "outputs": [
    {
     "data": {
      "text/plain": [
       "count       30.000000\n",
       "mean         3.500000\n",
       "std          1.717054\n",
       "min          1.000000\n",
       "25%          2.000000\n",
       "50%          3.500000\n",
       "75%          5.000000\n",
       "max          6.000000\n",
       "variance     2.948276\n",
       "mode         5.000000\n",
       "mode2             NaN\n",
       "Name: D10, dtype: float64"
      ]
     },
     "execution_count": 3,
     "metadata": {},
     "output_type": "execute_result"
    }
   ],
   "source": [
    "fullyDescribedDf['D10']"
   ]
  },
  {
   "cell_type": "markdown",
   "id": "bebb7d21",
   "metadata": {},
   "source": [
    "***QUESTION 3:***\n",
    "\n",
    "***Next use the descriptive statistics menu to find the boxplots and individual value plots for each of the dice. Compare and contrast the boxplot of D1 to any of the other dice. (You may want to use the die you found in question 2.) What do you see? Compare and contrast the interval value plot of D1 to any of the other dice. What do you see? Paste the boxplot and interval value plot of D1 and the die you chose to compare it to below.***"
   ]
  },
  {
   "cell_type": "code",
   "execution_count": 4,
   "id": "e3bdfc8f",
   "metadata": {},
   "outputs": [
    {
     "data": {
      "image/png": "[encoded data removed]",
      "text/plain": [
       "<Figure size 640x480 with 1 Axes>"
      ]
     },
     "metadata": {},
     "output_type": "display_data"
    },
    {
     "data": {
      "text/plain": [
       "<Axes: ylabel='D10'>"
      ]
     },
     "execution_count": 4,
     "metadata": {},
     "output_type": "execute_result"
    },
    {
     "data": {
      "image/png": "[encoded data removed]",
      "text/plain": [
       "<Figure size 640x480 with 1 Axes>"
      ]
     },
     "metadata": {},
     "output_type": "display_data"
    }
   ],
   "source": [
    "sns.boxplot(df['D1'])\n",
    "plt.show()\n",
    "sns.boxplot(df['D10'])"
   ]
  },
  {
   "cell_type": "markdown",
   "id": "4e0d6b66",
   "metadata": {},
   "source": [
    "**D1 is not fair because it never rolled a 1 or 6**"
   ]
  },
  {
   "cell_type": "markdown",
   "id": "ed63a5c4",
   "metadata": {},
   "source": [
    "***QUESTION 4:***\n",
    "\n",
    "***4.\tNow use the graph builder to create a graph that contains all the boxplots. Paste the graph below.***"
   ]
  },
  {
   "cell_type": "code",
   "execution_count": 5,
   "id": "bdc9d5fd",
   "metadata": {},
   "outputs": [
    {
     "data": {
      "image/png": "[encoded data removed]",
      "text/plain": [
       "<Figure size 640x480 with 1 Axes>"
      ]
     },
     "metadata": {},
     "output_type": "display_data"
    },
    {
     "data": {
      "image/png": "[encoded data removed]",
      "text/plain": [
       "<Figure size 640x480 with 1 Axes>"
      ]
     },
     "metadata": {},
     "output_type": "display_data"
    },
    {
     "data": {
      "image/png": "[encoded data removed]",
      "text/plain": [
       "<Figure size 640x480 with 1 Axes>"
      ]
     },
     "metadata": {},
     "output_type": "display_data"
    },
    {
     "data": {
      "image/png": "[encoded data removed]",
      "text/plain": [
       "<Figure size 640x480 with 1 Axes>"
      ]
     },
     "metadata": {},
     "output_type": "display_data"
    },
    {
     "data": {
      "image/png": "[encoded data removed]",
      "text/plain": [
       "<Figure size 640x480 with 1 Axes>"
      ]
     },
     "metadata": {},
     "output_type": "display_data"
    },
    {
     "data": {
      "image/png": "[encoded data removed]",
      "text/plain": [
       "<Figure size 640x480 with 1 Axes>"
      ]
     },
     "metadata": {},
     "output_type": "display_data"
    },
    {
     "data": {
      "image/png": "[encoded data removed]",
      "text/plain": [
       "<Figure size 640x480 with 1 Axes>"
      ]
     },
     "metadata": {},
     "output_type": "display_data"
    },
    {
     "data": {
      "image/png": "[encoded data removed]",
      "text/plain": [
       "<Figure size 640x480 with 1 Axes>"
      ]
     },
     "metadata": {},
     "output_type": "display_data"
    },
    {
     "data": {
      "image/png": "[encoded data removed]",
      "text/plain": [
       "<Figure size 640x480 with 1 Axes>"
      ]
     },
     "metadata": {},
     "output_type": "display_data"
    },
    {
     "data": {
      "image/png": "[encoded data removed]",
      "text/plain": [
       "<Figure size 640x480 with 1 Axes>"
      ]
     },
     "metadata": {},
     "output_type": "display_data"
    }
   ],
   "source": [
    "for column in df:\n",
    "    sns.boxplot(df[column])\n",
    "    plt.show()"
   ]
  },
  {
   "cell_type": "markdown",
   "id": "97dccc50",
   "metadata": {},
   "source": [
    "**D1, D2, D3, D4, D6, D7, D8, D9 all seem loaded from the boxplots**"
   ]
  },
  {
   "cell_type": "markdown",
   "id": "a90c6934",
   "metadata": {},
   "source": [
    "***Question 5:***\n",
    "\n",
    "***5.\tNow use Minitab to find the 95% confidence intervals for each of the samples. Paste your output below.***\n",
    "\n",
    "***Find 95% intervals for each die sample***"
   ]
  },
  {
   "cell_type": "code",
   "execution_count": 6,
   "id": "d1d52627",
   "metadata": {},
   "outputs": [
    {
     "name": "stdout",
     "output_type": "stream",
     "text": [
      "D1: (2.8514457772918904, 3.681887556041443)\n",
      "D2: (3.0000293657917276, 4.466637300874939)\n",
      "D3: (2.864275749669866, 4.0023909169968)\n",
      "D4: (2.7351489962823274, 3.998184337051006)\n",
      "D5: (2.9137448012631557, 4.086255198736844)\n",
      "D6: (2.881816725926018, 4.118183274073981)\n",
      "D7: (2.2249204752644074, 3.3750795247355923)\n",
      "D8: (3.6707878636431657, 4.8625454696901675)\n",
      "D9: (3.1137261193526875, 4.352940547313979)\n",
      "D10: (2.8589133349780504, 4.14108666502195)\n"
     ]
    }
   ],
   "source": [
    "t = 2.045\n",
    "for column in df.columns:\n",
    "    n = df[column].size\n",
    "    std = df[column].std()\n",
    "    mean = df[column].mean()\n",
    "    lowerB = mean - t*(std/math.sqrt(n))\n",
    "    upperB = mean + t*(std/math.sqrt(n))\n",
    "    print(column + \": (\" + str(lowerB) + \", \" + str(upperB) + \")\")\n"
   ]
  },
  {
   "cell_type": "markdown",
   "id": "4d439412",
   "metadata": {},
   "source": [
    "**From this data we can see that D7 and D8 are unfair due to the 95% confidence interval not including the population mean**"
   ]
  },
  {
   "cell_type": "markdown",
   "id": "257ea09d",
   "metadata": {},
   "source": [
    "***Question 6:***\n",
    "\n",
    "***6.\tProvide a quick summary of the die or dice you found to be unfair and your reasoning for deciding this.***"
   ]
  },
  {
   "cell_type": "markdown",
   "id": "54c2caa7",
   "metadata": {},
   "source": [
    "**Sus die D1 Variance/standard deviation is very low, and min and max inidcate that the die never rolled a 1 or a 6, mean is low**\n",
    "\n",
    "**Sus die D2 has a high mean and variance**\n",
    "\n",
    "**Sus die D4 has a low mean**\n",
    "\n",
    "**Sus die D7 mean is very low, standard deviation is low, median is low. 95% confidence interval does not contain population mean**\n",
    "\n",
    "**Sus die D8 has a very high mean, median is high. 95% confidence interval does not contain population mean**\n",
    "\n",
    "**Sus die d9 has a high median and highish mean**"
   ]
  },
  {
   "cell_type": "code",
   "execution_count": null,
   "id": "931c4798",
   "metadata": {},
   "outputs": [
    {
     "name": "stdout",
     "output_type": "stream",
     "text": [
      "69.83333333333333\n"
     ]
    }
   ],
   "source": [
    "se = pd.Series([79,64,63,77,71,81,78,58,74,70,60,63])\n",
    "t= 0\n",
    "sd = se.std()\n",
    "n = se.size\n",
    "lowerBound = se.mean() - t*(sd/math.sqrt(n))\n",
    "print(se.mean())"
   ]
  },
  {
   "cell_type": "code",
   "execution_count": 25,
   "id": "51de5b0d",
   "metadata": {},
   "outputs": [
    {
     "name": "stdout",
     "output_type": "stream",
     "text": [
      "ME: 0.014999947203538226\n",
      "P: 0.11469387755102041\n",
      "CI_LB: 0.09969393034748218\n",
      "CI_UB: 0.12969382475455862\n"
     ]
    }
   ],
   "source": [
    "x=281\n",
    "n=2450\n",
    "p=x/n\n",
    "# p=.15\n",
    "z=2.33\n",
    "marginE=z*math.sqrt((p*(1-p))/n)\n",
    "# marginE = .03\n",
    "print(\"ME: \" + str(marginE) + \"\\nP: \"+ str(p)+\"\\nCI_LB: \"+ str(p-marginE)+\"\\nCI_UB: \"+str(p+marginE))\n"
   ]
  },
  {
   "cell_type": "code",
   "execution_count": null,
   "id": "24ada2bb",
   "metadata": {},
   "outputs": [],
   "source": []
  }
 ],
 "metadata": {
  "kernelspec": {
   "display_name": "base",
   "language": "python",
   "name": "python3"
  },
  "language_info": {
   "codemirror_mode": {
    "name": "ipython",
    "version": 3
   },
   "file_extension": ".py",
   "mimetype": "text/x-python",
   "name": "python",
   "nbconvert_exporter": "python",
   "pygments_lexer": "ipython3",
   "version": "3.10.12"
  }
 },
 "nbformat": 4,
 "nbformat_minor": 5
}
