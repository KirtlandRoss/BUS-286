{
 "cells": [
  {
   "cell_type": "code",
   "execution_count": 5,
   "id": "4e24b7c3",
   "metadata": {},
   "outputs": [
    {
     "data": {
      "application/vnd.microsoft.datawrangler.viewer.v0+json": {
       "columns": [
        {
         "name": "Day",
         "rawType": "int64",
         "type": "integer"
        },
        {
         "name": "Restaurant1",
         "rawType": "int64",
         "type": "integer"
        },
        {
         "name": "Restaurant2",
         "rawType": "int64",
         "type": "integer"
        }
       ],
       "conversionMethod": "pd.DataFrame",
       "ref": "f6552c24-8ac6-44fe-8a50-4c4186c3ac7e",
       "rows": [
        [
         "1",
         "5828",
         "7894"
        ],
        [
         "2",
         "9836",
         "11573"
        ],
        [
         "3",
         "3984",
         "5319"
        ],
        [
         "4",
         "5845",
         "6389"
        ],
        [
         "5",
         "5210",
         "6055"
        ],
        [
         "6",
         "9668",
         "10631"
        ],
        [
         "7",
         "6768",
         "7866"
        ],
        [
         "8",
         "6726",
         "7976"
        ],
        [
         "9",
         "4399",
         "5652"
        ],
        [
         "10",
         "6692",
         "8083"
        ]
       ],
       "shape": {
        "columns": 2,
        "rows": 10
       }
      },
      "text/html": [
       "<div>\n",
       "<style scoped>\n",
       "    .dataframe tbody tr th:only-of-type {\n",
       "        vertical-align: middle;\n",
       "    }\n",
       "\n",
       "    .dataframe tbody tr th {\n",
       "        vertical-align: top;\n",
       "    }\n",
       "\n",
       "    .dataframe thead th {\n",
       "        text-align: right;\n",
       "    }\n",
       "</style>\n",
       "<table border=\"1\" class=\"dataframe\">\n",
       "  <thead>\n",
       "    <tr style=\"text-align: right;\">\n",
       "      <th></th>\n",
       "      <th>Restaurant1</th>\n",
       "      <th>Restaurant2</th>\n",
       "    </tr>\n",
       "    <tr>\n",
       "      <th>Day</th>\n",
       "      <th></th>\n",
       "      <th></th>\n",
       "    </tr>\n",
       "  </thead>\n",
       "  <tbody>\n",
       "    <tr>\n",
       "      <th>1</th>\n",
       "      <td>5828</td>\n",
       "      <td>7894</td>\n",
       "    </tr>\n",
       "    <tr>\n",
       "      <th>2</th>\n",
       "      <td>9836</td>\n",
       "      <td>11573</td>\n",
       "    </tr>\n",
       "    <tr>\n",
       "      <th>3</th>\n",
       "      <td>3984</td>\n",
       "      <td>5319</td>\n",
       "    </tr>\n",
       "    <tr>\n",
       "      <th>4</th>\n",
       "      <td>5845</td>\n",
       "      <td>6389</td>\n",
       "    </tr>\n",
       "    <tr>\n",
       "      <th>5</th>\n",
       "      <td>5210</td>\n",
       "      <td>6055</td>\n",
       "    </tr>\n",
       "    <tr>\n",
       "      <th>6</th>\n",
       "      <td>9668</td>\n",
       "      <td>10631</td>\n",
       "    </tr>\n",
       "    <tr>\n",
       "      <th>7</th>\n",
       "      <td>6768</td>\n",
       "      <td>7866</td>\n",
       "    </tr>\n",
       "    <tr>\n",
       "      <th>8</th>\n",
       "      <td>6726</td>\n",
       "      <td>7976</td>\n",
       "    </tr>\n",
       "    <tr>\n",
       "      <th>9</th>\n",
       "      <td>4399</td>\n",
       "      <td>5652</td>\n",
       "    </tr>\n",
       "    <tr>\n",
       "      <th>10</th>\n",
       "      <td>6692</td>\n",
       "      <td>8083</td>\n",
       "    </tr>\n",
       "  </tbody>\n",
       "</table>\n",
       "</div>"
      ],
      "text/plain": [
       "     Restaurant1  Restaurant2\n",
       "Day                          \n",
       "1           5828         7894\n",
       "2           9836        11573\n",
       "3           3984         5319\n",
       "4           5845         6389\n",
       "5           5210         6055\n",
       "6           9668        10631\n",
       "7           6768         7866\n",
       "8           6726         7976\n",
       "9           4399         5652\n",
       "10          6692         8083"
      ]
     },
     "execution_count": 5,
     "metadata": {},
     "output_type": "execute_result"
    }
   ],
   "source": [
    "import pandas as pd\n",
    "\n",
    "df = pd.read_csv('Activity5.csv').set_index(\"Day\")\n",
    "df"
   ]
  },
  {
   "cell_type": "code",
   "execution_count": 6,
   "id": "8dceb06a",
   "metadata": {},
   "outputs": [
    {
     "data": {
      "application/vnd.microsoft.datawrangler.viewer.v0+json": {
       "columns": [
        {
         "name": "index",
         "rawType": "object",
         "type": "string"
        },
        {
         "name": "Restaurant1",
         "rawType": "float64",
         "type": "float"
        },
        {
         "name": "Restaurant2",
         "rawType": "float64",
         "type": "float"
        }
       ],
       "conversionMethod": "pd.DataFrame",
       "ref": "07aa60ed-235b-48d5-9ea1-fa7b4fa8ae3e",
       "rows": [
        [
         "count",
         "10.0",
         "10.0"
        ],
        [
         "mean",
         "6495.6",
         "7743.8"
        ],
        [
         "std",
         "1961.1180597925368",
         "2058.8015283978525"
        ],
        [
         "min",
         "3984.0",
         "5319.0"
        ],
        [
         "25%",
         "5364.5",
         "6138.5"
        ],
        [
         "50%",
         "6268.5",
         "7880.0"
        ],
        [
         "75%",
         "6757.5",
         "8056.25"
        ],
        [
         "max",
         "9836.0",
         "11573.0"
        ]
       ],
       "shape": {
        "columns": 2,
        "rows": 8
       }
      },
      "text/html": [
       "<div>\n",
       "<style scoped>\n",
       "    .dataframe tbody tr th:only-of-type {\n",
       "        vertical-align: middle;\n",
       "    }\n",
       "\n",
       "    .dataframe tbody tr th {\n",
       "        vertical-align: top;\n",
       "    }\n",
       "\n",
       "    .dataframe thead th {\n",
       "        text-align: right;\n",
       "    }\n",
       "</style>\n",
       "<table border=\"1\" class=\"dataframe\">\n",
       "  <thead>\n",
       "    <tr style=\"text-align: right;\">\n",
       "      <th></th>\n",
       "      <th>Restaurant1</th>\n",
       "      <th>Restaurant2</th>\n",
       "    </tr>\n",
       "  </thead>\n",
       "  <tbody>\n",
       "    <tr>\n",
       "      <th>count</th>\n",
       "      <td>10.00000</td>\n",
       "      <td>10.000000</td>\n",
       "    </tr>\n",
       "    <tr>\n",
       "      <th>mean</th>\n",
       "      <td>6495.60000</td>\n",
       "      <td>7743.800000</td>\n",
       "    </tr>\n",
       "    <tr>\n",
       "      <th>std</th>\n",
       "      <td>1961.11806</td>\n",
       "      <td>2058.801528</td>\n",
       "    </tr>\n",
       "    <tr>\n",
       "      <th>min</th>\n",
       "      <td>3984.00000</td>\n",
       "      <td>5319.000000</td>\n",
       "    </tr>\n",
       "    <tr>\n",
       "      <th>25%</th>\n",
       "      <td>5364.50000</td>\n",
       "      <td>6138.500000</td>\n",
       "    </tr>\n",
       "    <tr>\n",
       "      <th>50%</th>\n",
       "      <td>6268.50000</td>\n",
       "      <td>7880.000000</td>\n",
       "    </tr>\n",
       "    <tr>\n",
       "      <th>75%</th>\n",
       "      <td>6757.50000</td>\n",
       "      <td>8056.250000</td>\n",
       "    </tr>\n",
       "    <tr>\n",
       "      <th>max</th>\n",
       "      <td>9836.00000</td>\n",
       "      <td>11573.000000</td>\n",
       "    </tr>\n",
       "  </tbody>\n",
       "</table>\n",
       "</div>"
      ],
      "text/plain": [
       "       Restaurant1   Restaurant2\n",
       "count     10.00000     10.000000\n",
       "mean    6495.60000   7743.800000\n",
       "std     1961.11806   2058.801528\n",
       "min     3984.00000   5319.000000\n",
       "25%     5364.50000   6138.500000\n",
       "50%     6268.50000   7880.000000\n",
       "75%     6757.50000   8056.250000\n",
       "max     9836.00000  11573.000000"
      ]
     },
     "execution_count": 6,
     "metadata": {},
     "output_type": "execute_result"
    }
   ],
   "source": [
    "df.describe()"
   ]
  },
  {
   "cell_type": "markdown",
   "id": "29a925ec",
   "metadata": {},
   "source": [
    "***QUESTION A: Calculate a 95% confidence interval for the mean difference at restuarant sales.***"
   ]
  },
  {
   "cell_type": "code",
   "execution_count": 7,
   "id": "55550ade",
   "metadata": {},
   "outputs": [
    {
     "data": {
      "text/plain": [
       "[-3137.5565986011516, 641.1565986011517]"
      ]
     },
     "execution_count": 7,
     "metadata": {},
     "output_type": "execute_result"
    }
   ],
   "source": [
    "import scipy.stats as stats\n",
    "result = stats.ttest_ind(df['Restaurant1'],df['Restaurant2'], equal_var=False)\n",
    "ci = result.confidence_interval()\n",
    "interval = [ci.low, ci.high]\n",
    "interval\n",
    "\n"
   ]
  },
  {
   "cell_type": "markdown",
   "id": "50ae46cf",
   "metadata": {},
   "source": [
    "***QUESTION B: The owner wants to know if thre is evidence of a difference between the average daily food sales of the two restaurants. Testing using alpha = 0.01***"
   ]
  },
  {
   "cell_type": "code",
   "execution_count": null,
   "id": "24d446ce",
   "metadata": {},
   "outputs": [
    {
     "name": "stdout",
     "output_type": "stream",
     "text": [
      "At alpha = 0.01 there is not sufficient evidence to reject the the claim that there is no difference between average daily food sales at the two restuarants.\n"
     ]
    }
   ],
   "source": [
    "if result.pvalue < 0.01:\n",
    "    print(\"At alpha = 0.01 there is sufficient evidence to reject the the claim that there is no difference between average daily food sales at the two restuarants.\")\n",
    "else: \n",
    "    print(\"At alpha = 0.01 there is not sufficient evidence to reject the the claim that there is no difference between average daily food sales at the two restuarants.\")"
   ]
  }
 ],
 "metadata": {
  "kernelspec": {
   "display_name": "base",
   "language": "python",
   "name": "python3"
  },
  "language_info": {
   "codemirror_mode": {
    "name": "ipython",
    "version": 3
   },
   "file_extension": ".py",
   "mimetype": "text/x-python",
   "name": "python",
   "nbconvert_exporter": "python",
   "pygments_lexer": "ipython3",
   "version": "3.10.12"
  }
 },
 "nbformat": 4,
 "nbformat_minor": 5
}
