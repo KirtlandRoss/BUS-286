{
 "cells": [
  {
   "cell_type": "code",
   "execution_count": 1,
   "id": "4e24b7c3",
   "metadata": {},
   "outputs": [],
   "source": [
    "import pandas as pd\n",
    "\n",
    "df = pd.read_csv('Activity5.csv').set_index(\"Day\")"
   ]
  },
  {
   "cell_type": "markdown",
   "id": "29a925ec",
   "metadata": {},
   "source": [
    "***QUESTION A: Calculate a 95% confidence interval for the mean difference at restuarant sales.***"
   ]
  },
  {
   "cell_type": "code",
   "execution_count": 2,
   "id": "55550ade",
   "metadata": {},
   "outputs": [
    {
     "data": {
      "text/plain": [
       "[-3137.5565986011516, 641.1565986011517]"
      ]
     },
     "execution_count": 2,
     "metadata": {},
     "output_type": "execute_result"
    }
   ],
   "source": [
    "import scipy.stats as stats\n",
    "result = stats.ttest_ind(df['Restaurant1'],df['Restaurant2'], equal_var=False)\n",
    "ci = result.confidence_interval()\n",
    "interval = [ci.low, ci.high]\n",
    "interval\n",
    "\n"
   ]
  },
  {
   "cell_type": "markdown",
   "id": "50ae46cf",
   "metadata": {},
   "source": [
    "***QUESTION B: The owner wants to know if thre is evidence of a difference between the average daily food sales of the two restaurants. Testing using alpha = 0.01***"
   ]
  },
  {
   "cell_type": "code",
   "execution_count": 3,
   "id": "24d446ce",
   "metadata": {},
   "outputs": [
    {
     "name": "stdout",
     "output_type": "stream",
     "text": [
      "At alpha = 0.01 there is not sufficient evidence to reject the the claim that there is no difference between average daily food sales at the two restuarants.\n"
     ]
    }
   ],
   "source": [
    "if result.pvalue < 0.01:\n",
    "    print(\"At alpha = 0.01 there is sufficient evidence to reject the the claim that there is no difference between average daily food sales at the two restuarants.\")\n",
    "else: \n",
    "    print(\"At alpha = 0.01 there is not sufficient evidence to reject the the claim that there is no difference between average daily food sales at the two restuarants.\")"
   ]
  }
 ],
 "metadata": {
  "kernelspec": {
   "display_name": "base",
   "language": "python",
   "name": "python3"
  },
  "language_info": {
   "codemirror_mode": {
    "name": "ipython",
    "version": 3
   },
   "file_extension": ".py",
   "mimetype": "text/x-python",
   "name": "python",
   "nbconvert_exporter": "python",
   "pygments_lexer": "ipython3",
   "version": "3.10.12"
  }
 },
 "nbformat": 4,
 "nbformat_minor": 5
}
