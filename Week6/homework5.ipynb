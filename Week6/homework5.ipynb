{
 "cells": [
  {
   "cell_type": "code",
   "execution_count": 1,
   "id": "470f91aa",
   "metadata": {},
   "outputs": [],
   "source": [
    "import pandas as pd\n",
    "from seaborn import histplot\n",
    "\n",
    "df = pd.DataFrame({\n",
    "    'bookstore' : [70,38,88,165,80,103,42,98,89,97,140,40,175,85,100,68,67,140,49,149,126,92,144,98,40],\n",
    "    'onlineRetailer' : [60,36,89,149,136,95,50,111,65,86,130,30,150,75,85,62,69,142,40,127,130,93,129,84,52]\n",
    "})"
   ]
  },
  {
   "cell_type": "code",
   "execution_count": 2,
   "id": "3fa6e0b8",
   "metadata": {},
   "outputs": [
    {
     "data": {
      "text/plain": [
       "<Axes: ylabel='Count'>"
      ]
     },
     "execution_count": 2,
     "metadata": {},
     "output_type": "execute_result"
    },
    {
     "data": {
      "image/png": "[encoded data removed]",
      "text/plain": [
       "<Figure size 640x480 with 1 Axes>"
      ]
     },
     "metadata": {},
     "output_type": "display_data"
    }
   ],
   "source": [
    "priceDifference = []\n",
    "for _,row in df.iterrows():\n",
    "   priceDifference.append(row.iloc[1] - row.iloc[0]) \n",
    "\n",
    "differenceSeries = pd.Series(priceDifference)\n",
    "diffMean = differenceSeries.mean()\n",
    "diffStd = differenceSeries.std()\n",
    "histplot(differenceSeries)"
   ]
  },
  {
   "cell_type": "code",
   "execution_count": null,
   "id": "1dc98a7a",
   "metadata": {},
   "outputs": [
    {
     "data": {
      "text/plain": [
       "ConfidenceInterval(low=-13.430068915746416, high=4.790068915746415)"
      ]
     },
     "execution_count": 11,
     "metadata": {},
     "output_type": "execute_result"
    }
   ],
   "source": [
    "import scipy.stats as stats\n",
    "stats.ttest_1samp(differenceSeries, 0).confidence_interval(0.99)\n"
   ]
  },
  {
   "cell_type": "code",
   "execution_count": 17,
   "id": "dd050f05",
   "metadata": {},
   "outputs": [
    {
     "name": "stdout",
     "output_type": "stream",
     "text": [
      "t: -1.3263103465368828\n",
      "mean -4.32\n",
      "standard deviation: 16.285781119328195\n"
     ]
    }
   ],
   "source": [
    "t, p = stats.ttest_1samp(differenceSeries, 0)\n",
    "print(\"t: \" + str(t) + \"\\nmean \" + str(diffMean) + \"\\nstandard deviation: \"+ str(diffStd))"
   ]
  },
  {
   "cell_type": "code",
   "execution_count": 22,
   "id": "b7a5a29f",
   "metadata": {},
   "outputs": [
    {
     "data": {
      "text/plain": [
       "TtestResult(statistic=1.9824814143238605, pvalue=0.04734883986144706, df=6)"
      ]
     },
     "execution_count": 22,
     "metadata": {},
     "output_type": "execute_result"
    }
   ],
   "source": [
    "df = pd.DataFrame({\n",
    "    'oldCashRegister' : [60,70,55,75,62,52,58],\n",
    "    'newCashRegister' : [65,71,55,75,65,57,57]\n",
    "})\n",
    "priceDifference = []\n",
    "for _,row in df.iterrows():\n",
    "   priceDifference.append(row.iloc[1] - row.iloc[0]) \n",
    "stats.ttest_1samp(priceDifference, 0, alternative=\"greater\")"
   ]
  },
  {
   "cell_type": "markdown",
   "id": "8dcaf466",
   "metadata": {},
   "source": [
    "***10.3 # 10 abe***"
   ]
  },
  {
   "cell_type": "code",
   "execution_count": null,
   "id": "3344efe0",
   "metadata": {},
   "outputs": [
    {
     "data": {
      "text/plain": [
       "TtestResult(statistic=4.391550328268399, pvalue=0.007077597925498281, df=5)"
      ]
     },
     "execution_count": 23,
     "metadata": {},
     "output_type": "execute_result"
    }
   ],
   "source": [
    "df = pd.DataFrame({\n",
    "    'modelA' : [150,145,160,155,152,153],\n",
    "    'modelB' : [152,146,160,157,154,155]\n",
    "})\n",
    "priceDifference = []\n",
    "for _,row in df.iterrows():\n",
    "   priceDifference.append(row.iloc[1] - row.iloc[0]) \n",
    "\n",
    "stats.ttest_1samp(priceDifference, 0)"
   ]
  },
  {
   "cell_type": "markdown",
   "id": "b70781cc",
   "metadata": {},
   "source": [
    "***11.4 # 10***"
   ]
  },
  {
   "cell_type": "code",
   "execution_count": null,
   "id": "666bf892",
   "metadata": {},
   "outputs": [],
   "source": []
  }
 ],
 "metadata": {
  "kernelspec": {
   "display_name": "base",
   "language": "python",
   "name": "python3"
  },
  "language_info": {
   "codemirror_mode": {
    "name": "ipython",
    "version": 3
   },
   "file_extension": ".py",
   "mimetype": "text/x-python",
   "name": "python",
   "nbconvert_exporter": "python",
   "pygments_lexer": "ipython3",
   "version": "3.10.12"
  }
 },
 "nbformat": 4,
 "nbformat_minor": 5
}
